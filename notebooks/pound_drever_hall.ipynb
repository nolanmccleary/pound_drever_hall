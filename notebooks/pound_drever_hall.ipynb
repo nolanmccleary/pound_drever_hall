{
 "cells": [
  {
   "cell_type": "markdown",
   "metadata": {},
   "source": [
    "# Pound Drever Hall\n",
    "\n",
    "## 0.0 Introduction\n",
    "\n",
    "Pound–Drever–Hall (PDH) locking is a technique for extracting frequency offset information from a laser relative to a stable reference (e.g., a cavity). The method works by phase-modulating the laser beam to generate sidebands, which can be described using the Bessel expansion of a modulated sinusoid. The cavity reflects the carrier and sidebands differently, encoding frequency detuning into a phase shift of the reflected light. By demodulating this signal at the modulation frequency, we recover an error signal that is directly sensitive to frequency offset.\n",
    "\n",
    "This notebook provides a visual introduction to these ideas before diving into the underlying math.\n",
    "\n",
    "## 1.1 Sinusoid Modulation\n",
    "\n",
    "The first thing we will do is create a time-domain sinusoid, this will represent our laser beam. We then modulate this sinusoid via an electro-optic modulator (EOM). The EOM will periodically phase-shift the signal at some given modulation frequency. Both the modulated and unmodulated carrier waves are visible below. "
   ]
  },
  {
   "cell_type": "code",
   "execution_count": 1,
   "metadata": {},
   "outputs": [],
   "source": [
    "import numpy as np\n",
    "import matplotlib.pyplot as plt\n",
    "from ipywidgets import interact, FloatSlider\n",
    "from scipy.special import j0, j1\n",
    "\n",
    "# Generate time axis vectors\n",
    "t1 = np.linspace(0, 1, 1000)\n",
    "t2 = np.linspace(0, 10, 10000)\n",
    "\n",
    "C = 3e8\n",
    "\n",
    "freq = FloatSlider(value=4.4, min=0.1, max=10.0, step=0.1)\n",
    "mod_freq = FloatSlider(value=0.9, min=0.1, max=10.0, step=0.1)\n",
    "beta = FloatSlider(value=0.66, min=0.01, max=5.0, step=0.01)\n",
    "phase_shift = FloatSlider(value=180, min=0, max=360, step=1)\n",
    "\n",
    "refractive_index = FloatSlider(value=1.0, min=0.95, max=1.05, step=0.01)  # basically air\n",
    "cav_freq = FloatSlider(value=15e9, min=13e9, max=17e9, step=10e6)  # around one FSR\n",
    "amplitude_reflectivity = FloatSlider(value=0.95, min=0.8, max=1.0, step=0.01)\n",
    "\n",
    "\n",
    "def sinusoid(freq, t, phase_shift_degrees=0):\n",
    "    omega = 2 * np.pi * freq\n",
    "    y = np.cos(omega * t + np.pi * phase_shift_degrees / 180) \n",
    "    return y\n",
    "\n",
    "def modulated_sinusoid(freq, mod_freq, beta, t):\n",
    "    omega = 2 * np.pi * freq\n",
    "    y = np.cos(omega * t + beta * np.cos(2 * np.pi * mod_freq * t))\n",
    "    return y\n",
    "\n",
    "def get_sinusoid_spectrum(signal, t):\n",
    "    N = len(t)\n",
    "    dt = t[1] - t[0]\n",
    "    Y = np.fft.fftshift(np.fft.fft(signal))\n",
    "    f = np.fft.fftshift(np.fft.fftfreq(N, d=dt))\n",
    "    Y_mag = np.abs(Y) / np.max(np.abs(Y))\n",
    "    return f, Y_mag\n",
    "\n",
    "def reflected_sinusoid(freq, mod_freq, beta, phase_shift, t):\n",
    "    y = modulated_sinusoid(freq=freq, mod_freq=mod_freq, beta=beta, t=t) + sinusoid(freq=freq, phase_shift_degrees=phase_shift, t=t)\n",
    "    return y\n",
    "\n",
    "def beat_signal(freq, mod_freq, beta, phase_shift, t):\n",
    "    y1 = reflected_sinusoid(freq=freq, mod_freq=mod_freq, beta=beta, phase_shift=phase_shift, t=t)\n",
    "    y2 = sinusoid(freq=mod_freq, t=t)\n",
    "    return y1 * y2\n",
    "\n",
    "def beat_signal_vs_phase(freq, mod_freq, beta, t, n_points=361):\n",
    "    phases = np.linspace(0, 360, n_points)\n",
    "    means = []\n",
    "    for phi in phases:\n",
    "        y = beat_signal(freq=freq, mod_freq=mod_freq, beta=beta, phase_shift=phi, t=t)\n",
    "        means.append(np.mean(y))\n",
    "    return phases, np.array(means)\n",
    "\n",
    "def beat_signal_vs_phase_normalized(freq, mod_freq, beta, t, n_points=361):\n",
    "    phases = np.linspace(0, 360, n_points)\n",
    "    means = []\n",
    "    y_norm = np.mean(beat_signal(freq=freq, mod_freq=mod_freq, beta=beta, phase_shift=180, t=t))\n",
    "    for phi in phases:\n",
    "        y = beat_signal(freq=freq, mod_freq=mod_freq, beta=beta, phase_shift=phi, t=t) - y_norm\n",
    "        means.append(np.mean(y))\n",
    "    return phases, np.array(means)\n",
    "\n",
    "\n",
    "def ref_coefficient(frequency, cav_len, r, n):\n",
    "    omega = frequency * 2 * np.pi\n",
    "    fsr = C / (2*n*cav_len)\n",
    "    z = np.exp(1j * omega / fsr)\n",
    "    return r * (z - 1)/(1 - r**2 * z)\n",
    "\n",
    "\n",
    "def pdh_error(omega, wm, r, n, cav_len, demod_offset):\n",
    "    theta = demod_offset * np.pi / 180\n",
    "    \n",
    "    F0 = ref_coefficient(frequency=omega, cav_len=cav_len, r=r, n=n)                  \n",
    "    Fp = ref_coefficient(frequency=omega + wm, cav_len=cav_len, r=r, n=n)              \n",
    "    Fm = ref_coefficient(frequency=omega - wm, cav_len=cav_len, r=r, n=n)           \n",
    "    \n",
    "    term = F0 * np.conj(Fm) - np.conj(F0) * Fp\n",
    "    \n",
    "    error = np.cos(theta) * np.imag(term) + np.sin(theta) * np.real(term)\n",
    "    return error\n",
    "\n",
    "\n",
    "\n",
    "def reflected_power_pdh(omega, wm, beta, r, n, cav_len):\n",
    "    F0 = ref_coefficient(frequency=omega, cav_len=cav_len, r=r, n=n)\n",
    "    Fp = ref_coefficient(frequency=omega + wm, cav_len=cav_len, r=r, n=n)\n",
    "    Fm = ref_coefficient(frequency=omega - wm, cav_len=cav_len, r=r, n=n)\n",
    "    \n",
    "    J0 = j0(beta)  \n",
    "    J1 = j1(beta)  \n",
    "    \n",
    "    power = (J0**2 * np.abs(F0)**2 + \n",
    "             J1**2 * (np.abs(Fp)**2 + np.abs(Fm)**2))\n",
    "    return power\n"
   ]
  },
  {
   "cell_type": "code",
   "execution_count": 2,
   "metadata": {},
   "outputs": [
    {
     "data": {
      "application/vnd.jupyter.widget-view+json": {
       "model_id": "f1785ed9169441cbb38b505ac7322f8a",
       "version_major": 2,
       "version_minor": 0
      },
      "text/plain": [
       "interactive(children=(FloatSlider(value=4.4, description='freq', max=10.0, min=0.1), Output()), _dom_classes=(…"
      ]
     },
     "metadata": {},
     "output_type": "display_data"
    },
    {
     "data": {
      "application/vnd.jupyter.widget-view+json": {
       "model_id": "9699b15eaac343fe8d65a404ce79c4ed",
       "version_major": 2,
       "version_minor": 0
      },
      "text/plain": [
       "interactive(children=(FloatSlider(value=4.4, description='freq', max=10.0, min=0.1), FloatSlider(value=0.9, de…"
      ]
     },
     "metadata": {},
     "output_type": "display_data"
    },
    {
     "data": {
      "text/plain": [
       "<function __main__.plot_modulated_sinusoid(freq, mod_freq, beta)>"
      ]
     },
     "execution_count": 2,
     "metadata": {},
     "output_type": "execute_result"
    }
   ],
   "source": [
    "def plot_sinusoid(freq):\n",
    "    T = t1\n",
    "    y = sinusoid(freq=freq, t=T)\n",
    "    plt.figure(figsize=(8,4))\n",
    "    plt.plot(T, y, label=fr'cos(2pi * {freq}t)')\n",
    "    plt.xlabel(\"Time (s)\")\n",
    "    plt.ylabel(\"Amplitude\")\n",
    "    plt.title(\"Unmodulated Carrier\")\n",
    "    plt.grid(True)\n",
    "    plt.legend()\n",
    "    plt.show()\n",
    "\n",
    "def plot_modulated_sinusoid(freq, mod_freq, beta):\n",
    "    T = t1\n",
    "    y = modulated_sinusoid(freq=freq, mod_freq=mod_freq, beta=beta, t=T)\n",
    "    plt.figure(figsize=(8,4))\n",
    "    plt.plot(T, y, label=fr'cos(2pi * {freq} * t + {beta:.2e}*cos(2pi*{mod_freq:.2e}t))')\n",
    "    plt.xlabel(\"Time (s)\")\n",
    "    plt.ylabel(\"Amplitude\")\n",
    "    plt.title(\"Modulated Carrier\")\n",
    "    plt.grid(True)\n",
    "    plt.legend()\n",
    "    plt.show()\n",
    "\n",
    "interact(plot_sinusoid, freq=freq)\n",
    "interact(plot_modulated_sinusoid, freq=freq, mod_freq=mod_freq, beta=beta)"
   ]
  },
  {
   "cell_type": "markdown",
   "metadata": {},
   "source": [
    "If we look at the modulated signal we see something that seems similar to multiple sinusoidal signals with different frequencies superimposing themselves on each other. This can be proven with the Jacobi-Anger identity but for now we'll just grab the frequency spectrum and see what happens. "
   ]
  },
  {
   "cell_type": "code",
   "execution_count": 3,
   "metadata": {},
   "outputs": [
    {
     "data": {
      "application/vnd.jupyter.widget-view+json": {
       "model_id": "c185666810444aa38cc043527d7eb28a",
       "version_major": 2,
       "version_minor": 0
      },
      "text/plain": [
       "interactive(children=(FloatSlider(value=4.4, description='freq', max=10.0, min=0.1), FloatSlider(value=0.9, de…"
      ]
     },
     "metadata": {},
     "output_type": "display_data"
    },
    {
     "data": {
      "text/plain": [
       "<function __main__.plot_spectrum_modulated_sinusoid(freq, mod_freq, beta)>"
      ]
     },
     "execution_count": 3,
     "metadata": {},
     "output_type": "execute_result"
    }
   ],
   "source": [
    "\n",
    "def plot_spectrum_modulated_sinusoid(freq, mod_freq, beta):\n",
    "    T = t2\n",
    "    y = modulated_sinusoid(freq=freq, mod_freq=mod_freq, beta=beta, t=T)\n",
    "    f, Y_mag = get_sinusoid_spectrum(signal=y, t=T)\n",
    "    plt.figure(figsize=(10,5))\n",
    "    plt.plot(f, Y_mag)\n",
    "    plt.title(\"Frequency Spectrum of Phase-Modulated Signal\")\n",
    "    plt.xlabel(\"Frequency (Hz)\")\n",
    "    plt.ylabel(\"Normalized Magnitude\")\n",
    "    plt.xlim(freq-5*mod_freq, freq+5*mod_freq)\n",
    "    plt.grid(True)\n",
    "    plt.show()\n",
    "\n",
    "interact(plot_spectrum_modulated_sinusoid, \n",
    "         freq=freq, \n",
    "         mod_freq=mod_freq, \n",
    "         beta=beta)"
   ]
  },
  {
   "cell_type": "markdown",
   "metadata": {},
   "source": [
    "We can see that for modulation frequencies less than the carrier frequency, and for comparatively small values of beta, we generally observe two prominent 'sidebands' equidistant on each side of the dominant band (which as you'd expect is the carrier frequency). For now we can assume that a properly designed PDH system will ensure that the modulation frequency is much lower than the carrier frequency and that our beta is fairly small.\n",
    "\n",
    "## 1.2 Cavity interference\n",
    "We can make the assumption that our modulating signal is very resistant to frequency drift. If we could find a way to translate frequency offset into a phase offset, we could then get a beat signal by superimposing the two fields and demodulating them with respect to our modulating tone. Taking the DC term of this signal would get us a value that is bijective (within our operating range) with the phase offset and thus the frequency offset. In other words, if the beat signal is odd-symmetric around our modulating tone, demodulating it with respect to that tone will allow us to obtain the magnitude and sign of our frequency offset. In other words, we should:\n",
    "\n",
    "1. Impart a phase-shift on a signal with respect to frequency drift that is odd-symmetric\n",
    "2. Make the phase shift as sharp as possible so we can detect it easily\n",
    "3. Center it on our target carrier frequency that we are trying to correct to\n",
    "\n",
    "We accomplish the three objectives above through either a Fabry-Perot cavity or a ring resonator. For what we care about they are functionally the same. We rotate the carrier with respect to frequency offset and demodulate the reflected field with respect to the modulation frequency.\n",
    "\n",
    "For the code below, we assume a perfect cavity respose i.e. only the carrier component of our incident field is reflected. This is done to simplify the code. "
   ]
  },
  {
   "cell_type": "code",
   "execution_count": 4,
   "metadata": {},
   "outputs": [
    {
     "data": {
      "application/vnd.jupyter.widget-view+json": {
       "model_id": "3a91d4b48cd34291905dcc56def414d0",
       "version_major": 2,
       "version_minor": 0
      },
      "text/plain": [
       "interactive(children=(FloatSlider(value=4.4, description='freq', max=10.0, min=0.1), FloatSlider(value=0.90000…"
      ]
     },
     "metadata": {},
     "output_type": "display_data"
    },
    {
     "data": {
      "text/plain": [
       "<function __main__.plot_reflected_sinusoid(freq, mod_freq, beta, phase_shift)>"
      ]
     },
     "execution_count": 4,
     "metadata": {},
     "output_type": "execute_result"
    }
   ],
   "source": [
    "def plot_reflected_sinusoid(freq, mod_freq, beta, phase_shift):\n",
    "    y = reflected_sinusoid(freq=freq, mod_freq=mod_freq, beta=beta, phase_shift=phase_shift, t=t1)\n",
    "    yf = reflected_sinusoid(freq=freq, mod_freq=mod_freq, beta=beta, phase_shift=phase_shift, t=t2)\n",
    "    f, Y_mag = get_sinusoid_spectrum(signal=yf, t=t2)\n",
    "    \n",
    "    plt.figure(figsize=(8,4))\n",
    "    plt.plot(t1, y)\n",
    "    plt.xlabel(\"Time (s)\")\n",
    "    plt.ylabel(\"Amplitude\")\n",
    "    plt.title(\"Reflected Field\")\n",
    "    plt.grid(True)\n",
    "    plt.legend()\n",
    "    plt.show()\n",
    "    \n",
    "    plt.figure(figsize=(10,5))\n",
    "    plt.plot(f, Y_mag)\n",
    "    plt.title(\"Frequency Spectrum of Reflected Field\")\n",
    "    plt.xlabel(\"Frequency (Hz)\")\n",
    "    plt.ylabel(\"Normalized Magnitude\")\n",
    "    plt.xlim(freq-5*mod_freq, freq+5*mod_freq)\n",
    "    plt.grid(True)\n",
    "    plt.show()\n",
    "\n",
    "interact(plot_reflected_sinusoid, freq=freq, mod_freq=mod_freq, beta=beta, phase_shift=phase_shift)"
   ]
  },
  {
   "cell_type": "markdown",
   "metadata": {},
   "source": [
    "## 1.3 Beat Signal\n",
    "\n",
    "We can see that the time-domain representation of our reflected field takes on an interesting shape, and looking at the frequency-domain representation of that field we can see that for small phase offsets around a 180-degree baseline that the carrier tone is mostly eliminated (there are a couple reasons it doesn't disappear completely but that's not relevant for now). Now we can demodulate this reflection to obtain our beat signal. "
   ]
  },
  {
   "cell_type": "code",
   "execution_count": 5,
   "metadata": {},
   "outputs": [
    {
     "data": {
      "application/vnd.jupyter.widget-view+json": {
       "model_id": "ab56efbceec54a829573e2ec1456b59e",
       "version_major": 2,
       "version_minor": 0
      },
      "text/plain": [
       "interactive(children=(FloatSlider(value=4.4, description='freq', max=10.0, min=0.1), FloatSlider(value=0.90000…"
      ]
     },
     "metadata": {},
     "output_type": "display_data"
    },
    {
     "data": {
      "text/plain": [
       "<function __main__.plot_beat_signal(freq, mod_freq, beta, phase_shift)>"
      ]
     },
     "execution_count": 5,
     "metadata": {},
     "output_type": "execute_result"
    }
   ],
   "source": [
    "def plot_beat_signal(freq, mod_freq, beta, phase_shift):\n",
    "    y = beat_signal(freq=freq, mod_freq=mod_freq, beta=beta, phase_shift=phase_shift, t=t1)\n",
    "\n",
    "    dc_term = np.mean(y)\n",
    "    print(f\"Mean (DC component) of beat signal: {dc_term:.6f}\")\n",
    "    \n",
    "    plt.figure(figsize=(8,4))\n",
    "    plt.plot(t1, y, label=\"Beat signal\")\n",
    "    plt.axhline(dc_term, color=\"red\", linestyle=\"--\", label=f\"Mean = {dc_term:.3e}\")\n",
    "    plt.xlabel(\"Time (s)\")\n",
    "    plt.ylabel(\"Amplitude\")\n",
    "    plt.title(\"Beat Signal\")\n",
    "    plt.grid(True)\n",
    "    plt.legend()\n",
    "    plt.show()\n",
    "\n",
    "interact(plot_beat_signal, freq=freq, mod_freq=mod_freq, beta=beta, phase_shift=phase_shift)"
   ]
  },
  {
   "cell_type": "markdown",
   "metadata": {},
   "source": [
    "We can see from the above that if our modulated signal is properly formed (two prominent sidebands), then small phase adjustments around the baseline rotation of 180 degrees results in a mean value that appears to be odd-symmetric and increasing/decreasing monotonically with respect to phase shift from baseline. The graph below plots this relationship out explicitly.  "
   ]
  },
  {
   "cell_type": "code",
   "execution_count": 6,
   "metadata": {},
   "outputs": [
    {
     "data": {
      "application/vnd.jupyter.widget-view+json": {
       "model_id": "c86a46c4bd7d4ed6be1ac2aff92e0d31",
       "version_major": 2,
       "version_minor": 0
      },
      "text/plain": [
       "interactive(children=(FloatSlider(value=4.4, description='freq', max=10.0, min=0.1), FloatSlider(value=0.90000…"
      ]
     },
     "metadata": {},
     "output_type": "display_data"
    },
    {
     "data": {
      "text/plain": [
       "<function __main__.plot_beat_signal_vs_phase(freq, mod_freq, beta)>"
      ]
     },
     "execution_count": 6,
     "metadata": {},
     "output_type": "execute_result"
    }
   ],
   "source": [
    "def plot_beat_signal_vs_phase(freq, mod_freq, beta):\n",
    "    phis, ys = beat_signal_vs_phase(freq=freq, mod_freq=mod_freq, beta=beta, t=t1)\n",
    "\n",
    "    idx = np.argmin(np.abs(phis - 180))\n",
    "    intercept_phase = phis[idx]\n",
    "    intercept_value = ys[idx]\n",
    "\n",
    "    plt.figure(figsize=(8,4))\n",
    "    plt.plot(phis, ys, label=\"Mean beat signal\")\n",
    "    plt.axhline(0, color=\"black\", linestyle=\"--\", linewidth=0.8)\n",
    "\n",
    "    plt.plot(intercept_phase, intercept_value, 'ro', label=f\"180° intercept ({intercept_value:.3e})\")\n",
    "    plt.axvline(intercept_phase, color=\"red\", linestyle=\"--\", linewidth=0.8)\n",
    "\n",
    "    plt.xlabel(\"Phase (Degrees)\")\n",
    "    plt.ylabel(\"DC Value\")\n",
    "    plt.title(\"Cavity Carrier Rotation vs Beat Signal DC Term\")\n",
    "    plt.grid(True)\n",
    "    plt.legend()\n",
    "    plt.show()\n",
    "\n",
    "interact(plot_beat_signal_vs_phase, freq=freq, mod_freq=mod_freq, beta=beta)"
   ]
  },
  {
   "cell_type": "markdown",
   "metadata": {},
   "source": [
    "What we are looking at above can be thought of as a sort of toy representation of a PDH error signal. The basic shape is similar but a lot of factors present in a real-world implementation were not accounted for. We also haven't bothered to compute phase offset from frequency offset and display the error signal as a result of a frequency sweep, which would probably be more useful. Rather, we just assume that the cavity does its job properly and rotates our carrier term by some given amount depending on its frequency offset.\n",
    "\n",
    "However, we can still see that this 'Toy Error Signal' is odd-symmetric around our 180-degree offset and is also monotonic in either direction up to a given point. Past this point the derivative changes signs and our error signal is no longer reliable (the bijection from frequency offset to beat signal DC term alluded to earlier breaks down). It's natural to ask if one should make sure to avoid excessive phase offsets (and by extension excessive frequency offsets). This is why servo controllers are combined with a separate acquisition strategy (e.g. sweep-and-hold, or an auxiliary wide-range actuator) to get the laser close enough that the PDH slope is reliable. \n",
    "\n",
    "We also see that there is generally some small offset at 180 degrees (cavity resonance). If we know what this offset, which can be obtained from the cavity response transfer function, we can normalize accordingly. "
   ]
  },
  {
   "cell_type": "code",
   "execution_count": 7,
   "metadata": {},
   "outputs": [
    {
     "data": {
      "application/vnd.jupyter.widget-view+json": {
       "model_id": "a269c0ca64d44b478f7c503700197224",
       "version_major": 2,
       "version_minor": 0
      },
      "text/plain": [
       "interactive(children=(FloatSlider(value=4.4, description='freq', max=10.0, min=0.1), FloatSlider(value=0.90000…"
      ]
     },
     "metadata": {},
     "output_type": "display_data"
    },
    {
     "data": {
      "text/plain": [
       "<function __main__.plot_beat_signal_vs_phase_normalized(freq, mod_freq, beta)>"
      ]
     },
     "execution_count": 7,
     "metadata": {},
     "output_type": "execute_result"
    }
   ],
   "source": [
    "def plot_beat_signal_vs_phase_normalized(freq, mod_freq, beta):\n",
    "    phis, ys = beat_signal_vs_phase_normalized(freq=freq, mod_freq=mod_freq, beta=beta, t=t1)\n",
    "    idx = np.argmin(np.abs(phis - 180))\n",
    "    intercept_phase = phis[idx]\n",
    "    intercept_value = ys[idx]\n",
    "    plt.figure(figsize=(8,4))\n",
    "    plt.plot(phis, ys, label=\"Mean beat signal\")\n",
    "    plt.axhline(0, color=\"black\", linestyle=\"--\", linewidth=0.8)\n",
    "    plt.plot(intercept_phase, intercept_value, 'ro', label=f\"180° intercept ({intercept_value:.3e})\")\n",
    "    plt.axvline(intercept_phase, color=\"red\", linestyle=\"--\", linewidth=0.8)\n",
    "    plt.xlabel(\"Phase (Degrees)\")\n",
    "    plt.ylabel(\"DC Value\")\n",
    "    plt.title(\"Cavity Carrier Rotation vs Normalized Beat Signal DC Term\")\n",
    "    plt.grid(True)\n",
    "    plt.legend()\n",
    "    plt.show()\n",
    "\n",
    "interact(plot_beat_signal_vs_phase_normalized, freq=freq, mod_freq=mod_freq, beta=beta)"
   ]
  },
  {
   "cell_type": "markdown",
   "metadata": {},
   "source": [
    "## 2.1 Bessel Expansion\n",
    "\n",
    "As mentioned earlier, PDH exploits the frequency domain characteristics of a modulated sinusoid, these characteristics are visible in the Bessel function expansion of the signal via the Jacobi-Anger identity. \n",
    "\n",
    "\n",
    "$$\n",
    "e^{i\\beta \\sin(\\omega_mt)} = \\sum_{n=-\\infty}^\\infty J_n(\\beta)e^{in\\omega_mt}\n",
    "$$\n",
    "\n",
    "Given our modulated sinusoid signal, as visible from the code:\n",
    "\n",
    "$$\n",
    "cos(\\omega t + \\beta \\sin(\\omega_mt)) = \\mathbb{R}\\{e^{i\\omega t}e^{i\\beta \\sin(\\omega_m t)}\\} = \\mathbb{R}\\{e^{i\\omega t}\\sum_{n=-\\infty}^\\infty J_n(\\beta)e^{in\\omega_m t}\\}\n",
    "$$\n",
    "\n",
    "Where\n",
    "\n",
    "$$\n",
    "J_n(\\beta) = \\frac{1}{2\\pi}\\int_0^{2\\pi}\\cos(n\\theta - \\beta \\sin(\\theta))d\\theta\n",
    "$$\n",
    "\n",
    "It's relatively easy to see from the integral above that for small values of beta and large values of n, the overall magnitude will be quite low. Integrating a high-frequency sinusoid across a large number of cycles will tend to yield a very small average value. The beta scaled sinusoidal offset can counter this by introducing a DC term into beat signal when we demodulate the the series but for small values of beta this DC term is negligible. In other words, we can say that for small values of beta we only really care about the first two terms $J_0$ and $J_1$\n",
    "\n",
    "Evaluating 1. we get:\n",
    "\n",
    "$$\n",
    "cos(\\omega t + \\beta \\sin(\\omega_m t)) \\approx J_0(\\beta)\\cos(\\omega t) - J_1(\\beta)[\\cos((\\omega + \\omega_m)t) - \\cos((\\omega - \\omega_m)t)]\n",
    "$$\n",
    "\n",
    "Where:\n",
    "$$\n",
    "J_0(\\beta) \\approx 1 - \\frac{\\beta^2}{4} \\newline J_1(\\beta) \\approx \\frac{\\beta}{2}\n",
    "$$\n",
    "\n",
    "More precisely:\n",
    "\n",
    "#### Equation 1: Bessel Expansion of Modulated Sinusoid\n",
    "$$\n",
    "E_{ref} \\approx E_0 * (F(\\omega)J_0(\\beta)e^{i \\omega t} - J_1(\\beta) * [F(\\omega + \\omega_m)e^{i(\\omega + \\omega_m)t} - F(\\omega - \\omega_m)e^{i(\\omega - \\omega_m)t}])\n",
    "$$\n",
    "\n",
    "\n",
    "What all this means is that if our beta is small, when we take the frequency spectrum of our signal we should see three main contributions present. One large one at the carrier frequency and two smaller ones at the carrier frequency plus or minus the modulation frequency. These are the sidebands. This is easily verifiable by playing around with beta in the frequency spectrum plots above. When beta is made larger the other Bessel functions are able to contribute more and the frequency spectrum acquires more spikes. We don't want this so we make sure beta is small.\n",
    "\n",
    "\n",
    "## 2.2.1 Fabry Perot Cavity\n",
    "We have our current toy PDH error signal but it is not really reflective of what a real PDH error signal looks like beyond the general idea of being odd-symmetric around a central point. The next step is to get a realistic signal.\n",
    "\n",
    "We define our fields as follows:\n",
    "\n",
    "$$\n",
    "E_{inc} = E_0e^{i\\omega t}\\newline\n",
    "E_{ref} = E_1e^{i\\omega t}\n",
    "$$\n",
    "Where $E_0$ and $E_1$ are complex constants in order to account for phase differences between the two signals.\n",
    "\n",
    "\n",
    "Assuming a symmetric Fabry-Perot cavity with no losses, the reflection coefficient can be obtained as follows:\n",
    "\n",
    "#### Equation 2: Reflection Coefficient\n",
    "\n",
    "$$\n",
    "F(\\omega) = \\frac{E_{ref}}{E_{inc}} = \\frac{r(e^{i\\frac{\\omega}{\\Delta v_{fsr}}}-1)}{1-r^2e^{i\\frac{\\omega}{\\Delta v_{fsr}}}}\n",
    "$$\n",
    "\n",
    "Where $r$ is the amplitude reflection coefficient and $\\Delta v_{fsr} = \\frac{c}{2L}$ is the free spectral range (distance between modes) for a cavity with length $L$.\n",
    "\n",
    "\n",
    "We can think of the reflection coefficient as a complex-valued vector with a phase angle dependent on the carrier frequency. The reflected field is then simply the incident field stretched and rotated in the complex plane by this reflection coefficient vector. Most of the time the reflection coefficient vector is relatively real-valued and constant magnitude. However, when approaching resonance it becomes almost entirely imaginary and flips over the real axis from +-i to -+i during resonance. At resonance the magnitude is zero. This sign flip also means that the cavity response is odd-symmetric about resonance. Below is a visualization:"
   ]
  },
  {
   "cell_type": "code",
   "execution_count": 8,
   "metadata": {},
   "outputs": [
    {
     "data": {
      "application/vnd.jupyter.widget-view+json": {
       "model_id": "cc02bbe20a4c4ed7a18827b26cee0518",
       "version_major": 2,
       "version_minor": 0
      },
      "text/plain": [
       "interactive(children=(FloatSlider(value=15000000000.0, description='frequency', max=17000000000.0, min=1300000…"
      ]
     },
     "metadata": {},
     "output_type": "display_data"
    },
    {
     "data": {
      "text/plain": [
       "<function __main__.plot_ref_coefficient(frequency, r, n)>"
      ]
     },
     "execution_count": 8,
     "metadata": {},
     "output_type": "execute_result"
    }
   ],
   "source": [
    "SPAN = 1.2\n",
    "N = 4001\n",
    "\n",
    "def plot_ref_coefficient(frequency, r, n):\n",
    "    cav_len = 0.01\n",
    "    F = ref_coefficient(frequency=frequency, r=r, n=n, cav_len=cav_len)\n",
    "\n",
    "    plt.figure(figsize=(6,6))\n",
    "    plt.quiver(0, 0, F.real, F.imag,\n",
    "               angles='xy', scale_units='xy', scale=1,\n",
    "               color='b', label=f'F(f), |F|={abs(F):.2f}')\n",
    "\n",
    "    plt.axhline(0, color='k', lw=0.5)\n",
    "    plt.axvline(0, color='k', lw=0.5)\n",
    "    plt.gca().set_aspect('equal', 'box')\n",
    "\n",
    "    plt.xlim(-1.2, 1.2)\n",
    "    plt.ylim(-1.2, 1.2)\n",
    "\n",
    "    plt.title('Fabry-Pérot Reflection Coefficient F(f)')\n",
    "    plt.xlabel('Re{F}')\n",
    "    plt.ylabel('Im{F}')\n",
    "    plt.legend()\n",
    "    plt.grid(True)\n",
    "\n",
    "    fsr = C / (2*n*cav_len)\n",
    "    nu = np.linspace(-SPAN*fsr/2, SPAN*fsr/2, N)\n",
    "    x = nu/fsr\n",
    "    phi = (2 * np.pi * x)\n",
    "    z = np.exp(1j * phi)\n",
    "    K = (r * (z - 1)) / (1 - (r**2) * z)\n",
    "    mag = np.abs(K)\n",
    "    phase = np.unwrap(np.angle(K))  # radians\n",
    "\n",
    "    plt.figure(figsize=(10,4))\n",
    "    plt.plot(x, mag, lw=2)\n",
    "    plt.xlabel('Detuning f / FSR')\n",
    "    plt.ylabel('|F(f)|')\n",
    "    plt.title('Reflected Amplitude |F(f)| vs Detuning')\n",
    "    plt.grid(True)\n",
    "\n",
    "    plt.figure(figsize=(10,4))\n",
    "    plt.plot(x, phase, lw=2)\n",
    "    plt.xlabel('Detuning f / FSR')\n",
    "    plt.ylabel('arg F(f)')\n",
    "    plt.title('Reflected Phase arg F(f) vs Detuning')\n",
    "    plt.grid(True)\n",
    "\n",
    "    plt.show()\n",
    "\n",
    "\n",
    "interact(plot_ref_coefficient, frequency=cav_freq, r=amplitude_reflectivity, n=refractive_index)"
   ]
  },
  {
   "cell_type": "markdown",
   "metadata": {},
   "source": []
  },
  {
   "cell_type": "markdown",
   "metadata": {},
   "source": [
    "As we detune the frequency, the reflection coefficient $F(\\omega)$ traces a circle on the left side of the complex plane, consistent with the literature. If we set $r=1$, this behavior disappears. This is because the input mirror is a perfect reflector, no leakage field exists, and the total reflection is a constant $\\pi$-phase flip $F(\\omega) = -1$ (purely real, no frequency dependence).  \n",
    "\n",
    "For $r < 1$ (symmetric, lossless cavity), the interference between the prompt and leakage fields drives $|F|$ to zero at resonance, and $\\arg(F)$ flips sign across resonance. This is exactly the odd-symmetric response PDH exploits.\n",
    "\n",
    "For all other frequencies there is little transformation beyond the $\\pi$-phase flip. This explains why we can expect our sidebands to not be strongly affected by a properly designed cavity.\n",
    "\n",
    "\n",
    "\n",
    "## 2.2.2 Ring Resonator\n",
    "\n",
    "\n",
    "A ring resonator is a roundabout for light that accomplishes much the same thing as an FP cavity but with a generally higher quality factor.\n",
    "\n",
    "At resonance\n",
    "$$\n",
    "L = m \\frac{\\lambda}{n_{eff}}\n",
    "$$\n",
    "\n",
    "Where m is an integer.\n",
    "\n",
    "From Maxwell's curl equations:\n",
    "\n",
    "$$\n",
    "\\nabla \\times (\\nabla \\times E) = -\\mu_0\\epsilon(r) \\frac{\\partial^2 E}{\\partial t^2}\n",
    "$$\n",
    "\n",
    "All this is saying is that if we froze time and traced how the field curves through space, the rate at which that curvature changes equals some constant times how the field would accelerate in time if we let it evolve again. Anything that satisfies this equation is called a wave. \n",
    "\n",
    "Using the vector identity $\\nabla \\times \\nabla \\times E = \\nabla(\\nabla \\cdot E) - \\nabla^2E $\n",
    "\n",
    "And assuming our dielectric substrate has no free charge in our particular location i.e. $\\nabla \\cdot [\\epsilon(r)E] = 0$, or in other word the field is divergence free because it's not pumping change into or out of the dielectric, we get the vector Helmholtz equation:\n",
    "\n",
    "$$\n",
    "\\nabla^2E + k_0^2n^2(r)E = 0\n",
    "$$\n",
    "\n",
    "with $k_0 = \\omega/c$.\n",
    "\n",
    "We now have a simplified expression for answering the question \"what is a wave?\". A waveguide, by the honor of its name, must guide a wave. Therefore, the material properties of the waveguide must let the wave wave. We are given these properties by whoever made the waveguide. We then solve the equation for \"what is a wave?\" given these properties as constraints.\n",
    "\n",
    "A ring resonator has a ring waveguide and a through waveguide. Some of the incoming field goes in from the straight waveguide, loops around, and interferes with the field that went straight through. This means that we have two fields: a 'through' field that goes straight through, and a 'coupled' field that gets looped around. Both of these fields are waves, so they are valid answers to the question \"what is a wave?\"\n",
    "\n",
    "$$\n",
    "\\nabla_t^2E_1 + [k_0^2n_1^2(x, y) - \\beta_1^2]E_1 = 0\n",
    "$$\n",
    "\n",
    "$$\n",
    "\\nabla_t^2E_2 + [k_0^2n_2^2(x, y) - \\beta_2^2]E_2 = 0\n",
    "$$\n",
    "\n",
    "Where beta just relates the effective refractive index $n_{eff}$ to the free space wavenumber $k_0$.\n",
    "\n",
    "In the coupler region, the total field is approximately a superposition of the two isolated modes:\n",
    "$$\n",
    "E(x, y, z) = A_1(z)E_1(x, y)e^{j\\beta_1 z} + A_2(z)E_2(x, y)e^{j\\beta_2 z}\n",
    "$$\n",
    "\n",
    "This means total field is a standing that varies along the z axis assuming we treat x and y as constant. Substituting back into the Helmoholtz equation above (after using orthogonality and ignoring second derivative terms we get):\n",
    "\n",
    "$$\n",
    "\\frac{dA_1}{dz} = -j\\nabla\\beta_{12}A_1 - jk_{12}A_2\n",
    "$$\n",
    "$$\n",
    "\\frac{dA_2}{dz} = -j\\nabla\\beta_{21}A_2 - jk_{21}A_1\n",
    "$$\n",
    "\n",
    "Then intuitively:\n",
    "\n",
    "$$\n",
    "k = \\frac{\\omega}{4P_1}\\int\\int\\Delta\\epsilon(x, y)E_1^*(x, y)\\cdot E_2(x, y)dxdy\n",
    "$$\n",
    "\n",
    "Where $\\Delta\\epsilon = \\epsilon(x, y) - \\epsilon_1(x, y)$ and $P_1$ is the power normalization of mode 1. All we are doing here is defining a coupling coefficient at location z lying on the x-y plane (cross-sectional area of our waveguides). We correlate the dot product of the two fields weighted by the electromagnetic permitivity difference at that particular point on the plane to determine the coupling coeffcient at that particular location z. We assume weak coupling and reciprocal media i.e. $k_{12} = k_{21} = k$.\n",
    "\n",
    "Let $A_i(z) = a_i(z)e^{j\\beta z} with \\beta\\approx\\beta_1\\approx\\beta_2$. This provides a generic answer to the \"what is a wave\" question. Then:\n",
    "\n",
    "$$\n",
    "\\frac{da_1(z)}{dz} = jka_2, \\frac{da_2}{dz} = jka_1\n",
    "$$\n",
    "\n",
    "Assuming the guides are phase-matched. Differentiating these terms once more gives us a solution to our \"what is a wave\" question:\n",
    "\n",
    "$$\n",
    "\\frac{d^2a_1(z)}{dz^2} \\rightarrow a_1(z) = a_1(0)cos(kz) + ja_2(0)sin(kz)\n",
    "$$\n",
    "$$\n",
    "a_2(z) = a_2(0)cos(kz) + ja_1(0)sin(kz)\n",
    "$$\n",
    "\n",
    "We can represent this with a matrix:\n",
    "$$\n",
    "\\begin{bmatrix}\n",
    "a_1(z) \\\\\n",
    "a_2(z)\n",
    "\\end{bmatrix}\n",
    "=\n",
    "\\begin{bmatrix}\n",
    "\\cos(kz) & j\\sin(kz) \\\\\n",
    "j\\sin(kz) & \\cos(kz)\n",
    "\\end{bmatrix}\n",
    "\\begin{bmatrix}\n",
    "a_1(0) \\\\\n",
    "a_2(0)\n",
    "\\end{bmatrix}$$\n",
    "\n",
    "$a_1(0)$ and $a_2(0)$ are the oscillating fields at coupling location $z=0$ on waveguides 1 and 2 respectively. The superposition of these oscillating fields forms a stationary wave (supermode). The matrix is a way to answer the question \"based on the definition of what a wave is and the material properties of our system, if we were to stop time and walk along the z direction, what would be our amplitude and phase after some number of steps?\". This matrix can then be used to also find the magnitude and phase at any point along our supermode.\n",
    "\n",
    "Since the wavelength changes with frequency, the superposition of these two waves will change when the phase alignment of the through and the coupled wave changes. \n",
    "\n",
    "This means that we can encode frequency offset into the phase/amplitude of our supermode. We now have everything we need to define our transfer function. We could do the math explicitly but it's just greasy algebra and we already covered the fun stuff. The one thing to remember is each field also gets coupled on the way out of the loop meaning some fraction still remains afterwards. This creates a convergent series. Math can be found [here](../Resources/rings.pdf):\n",
    "\n",
    "$$\n",
    "F(\\omega) = \\frac{E_{out}}{E_{in}} = \\frac{\\gamma - \\alpha e^{-j\\beta L}}{1 - \\gamma\\alpha e^{-j\\beta L}}\n",
    "$$\n",
    "\n",
    "Where $L = m\\frac{\\lambda}{n_{eff}}$, $\\lambda = 2\\pi\\frac{c}{w}$, and $\\gamma = cos(kz)$ where $z=L_c$.\n",
    "\n",
    "## 2.3 Power Signal\n",
    "\n",
    "Define incident field:\n",
    "\n",
    "$$\n",
    "E_{inc} = E_0e^{i\\omega t + \\beta \\cos(\\omega_m t)}\n",
    "$$\n",
    "\n",
    "From 2.1:\n",
    "$$\n",
    "= E_0 * (J_0(\\beta)\\cos(\\omega t) - J_1(\\beta)[\\cos((\\omega + \\omega_m)t) - \\cos((\\omega - \\omega_m)t)])\n",
    "$$\n",
    "\n",
    "Where:\n",
    "$$\n",
    "J_0(\\beta) \\approx 1 - \\frac{\\beta^2}{4} \\newline J_1(\\beta) \\approx \\frac{\\beta}{2}\n",
    "$$\n",
    "\n",
    "\n",
    "Then, given our reflection coefficient $F(\\omega)$:\n",
    "\n",
    "$$\n",
    "E_{ref} = F(\\omega)E_{inc} = E_0 * (F(\\omega)J_0(\\beta)\\cos(\\omega t) - J_1(\\beta) * [F(\\omega + \\omega_m)\\cos((\\omega + \\omega_m)t) - F(\\omega - \\omega_m)\\cos((\\omega - \\omega_m)t)])\n",
    "$$\n",
    "\n",
    "\n",
    "We can also represent it in its complex exponential form:\n",
    "\n",
    "$$\n",
    "E_{ref} = F(\\omega)E_{inc} = E_0 * (F(\\omega)J_0(\\beta)e^{i \\omega t} - J_1(\\beta) * [F(\\omega + \\omega_m)e^{i(\\omega + \\omega_m)t} - F(\\omega - \\omega_m)e^{i(\\omega - \\omega_m)t}])\n",
    "$$\n",
    "\n",
    "Where $P_{ref} = |E_{ref}|^2$:\n",
    "\n",
    "\n",
    "$$\n",
    "P_{\\rm ref}\n",
    "= P_c\\,|F(\\omega)|^2\n",
    "+ P_s\\big(|F(\\omega+\\omega_m)|^2 + |F(\\omega-\\omega_m)|^2\\big) \\newline\n",
    "+ 2\\sqrt{P_c P_s}\\,\\Big\\{\n",
    "\\Re\\!\\big[F(\\omega)F^*(\\omega+\\omega_m) - F^*(\\omega)F(\\omega-\\omega_m)\\big]\\cos(\\omega_m t)\\newline\n",
    "+ \\Im\\!\\big[F(\\omega)F^*(\\omega+\\omega_m) - F^*(\\omega)F(\\omega-\\omega_m)\\big]\\sin(\\omega_m t)\n",
    "\\Big\\}\\newline\n",
    "+ \\text{(2$\\omega_m$ terms)}\\newline\n",
    "$$\n",
    "\n",
    "Since we don't care about constants or higher-order harmonics as they will demodulate to zero with respect to the base harmonic, we get:\n",
    "\n",
    "#### Equation 3: Power Signal\n",
    "$$\n",
    "P_{\\rm ref} \\approx \\Re\\{(F(\\omega)F^*(\\omega+\\omega_m) - F^*(\\omega)F(\\omega-\\omega_m))e^{i\\omega_m t}\\}\n",
    "$$\n",
    "\n",
    "Where:\n",
    "\n",
    "$$\n",
    "P_c = J_0^2(\\beta)P_0\n",
    "$$\n",
    "\n",
    "$$\n",
    "P_s = J_1^2(\\beta)P_0\n",
    "$$\n",
    "\n",
    "$$\n",
    "P_0 \\approx P_c + 2P_s\n",
    "$$"
   ]
  },
  {
   "cell_type": "code",
   "execution_count": 9,
   "metadata": {},
   "outputs": [
    {
     "data": {
      "application/vnd.jupyter.widget-view+json": {
       "model_id": "58915f338f464a63b85d1c2c48ec17fc",
       "version_major": 2,
       "version_minor": 0
      },
      "text/plain": [
       "interactive(children=(FloatSlider(value=10000000.0, description='Mod', max=100000000000000.0, min=10000000.0, …"
      ]
     },
     "metadata": {},
     "output_type": "display_data"
    },
    {
     "data": {
      "text/plain": [
       "<function __main__.plot_resonance(wm, beta, r, n, carrier_freq, cav_len, offset)>"
      ]
     },
     "execution_count": 9,
     "metadata": {},
     "output_type": "execute_result"
    }
   ],
   "source": [
    "def plot_resonance(wm, beta, r, n, carrier_freq, cav_len, offset):\n",
    "    omega_carrier = 2 * np.pi * carrier_freq\n",
    "    detunings = np.linspace(0.9, 1.1, 1000)\n",
    "    frequencies = omega_carrier * detunings\n",
    "    \n",
    "    P = [reflected_power_pdh(w, wm, beta, r, n, cav_len) for w in frequencies]\n",
    "    err = [pdh_error(w, wm, r, n, cav_len, offset) for w in frequencies]\n",
    "\n",
    "    P_normalized = P / np.max(np.abs(P))\n",
    "    err_normalized = err / np.max(np.abs(err))\n",
    "\n",
    "    fig, (ax1, ax2) = plt.subplots(2, 1, figsize=(10, 8))\n",
    "    \n",
    "    ax1.plot(detunings, P_normalized, label=\"Reflected Power\", color=\"blue\", linewidth=2)\n",
    "    ax1.set_ylabel(\"Normalized Reflected Power\", color=\"blue\")\n",
    "    ax1.tick_params(axis='y', labelcolor=\"blue\")\n",
    "    ax1.set_ylim(-0.1, 1.1)\n",
    "    ax1.grid(True, alpha=0.3)\n",
    "    ax1.set_title(f\"Reflected Power (Modulation: {wm:.2e} Hz\\nCarrier: {carrier_freq:.2e} Hz)\")\n",
    "    ax1.axvline(1.0, color='red', linestyle='--', alpha=0.7, linewidth=1)\n",
    "    \n",
    "    ax2.plot(detunings, err_normalized, label=\"PDH Error\", color=\"red\", linewidth=2)\n",
    "    ax2.set_xlabel(\"ω / ω_res\")\n",
    "    ax2.set_ylabel(\"Normalized Error Signal\", color=\"red\")\n",
    "    ax2.tick_params(axis='y', labelcolor=\"red\")\n",
    "    ax2.set_ylim(-1.1, 1.1)\n",
    "    ax2.grid(True, alpha=0.3)\n",
    "    ax2.set_title(\"PDH Error Signal\")\n",
    "    ax2.axhline(0, color='black', linestyle='-', alpha=0.5)\n",
    "    ax2.axvline(1.0, color='red', linestyle='--', alpha=0.7, linewidth=1)\n",
    "\n",
    "    plt.tight_layout()\n",
    "    plt.show()\n",
    "\n",
    "\n",
    "carrier_slider = FloatSlider(value=100e16, min=10e6, max=100e12, step=1e6, \n",
    "                       description=\"Carrier\")\n",
    "cav_slider = FloatSlider(value=0.1e-5, min=0.01e-5, max=0.4e-5, step=1e-8, \n",
    "                       description=\"Cavity Length\")\n",
    "wm_slider = FloatSlider(value=10e6, min=10e6, max=100e12, step=1e6, \n",
    "                       description=\"Mod\")\n",
    "r_slider = FloatSlider(value=0.96, min=0.9, max=1.0, step=0.01, \n",
    "                       description=\"Reflection Coeff\")\n",
    "beta_slider = FloatSlider(value=0.3, min=0.1, max=1.4, step=0.04, \n",
    "                       description=\"Beta\")\n",
    "n_slider = FloatSlider(value=1.0, min=0.9, max=1.1, step=0.001, \n",
    "                       description=\"Refraction Coeff\")\n",
    "offset_slider = FloatSlider(value=0, min=-180, max=180, step=1, \n",
    "                       description=\"Modulation offset\")\n",
    "\n",
    "interact(plot_resonance, carrier_freq=carrier_slider, wm=wm_slider, beta=beta_slider, r=r_slider, n=n_slider, cav_len=cav_slider, offset=offset_slider)\n",
    "\n"
   ]
  },
  {
   "cell_type": "markdown",
   "metadata": {},
   "source": [
    "From the above, we can make some observations:\n",
    "\n",
    "1. Smaller beta values lead to a deeper resonance trough. This may explain why it's referred to as modulation depth. Physically it's proportional to the modulation voltage amplitude. \n",
    "\n",
    "2. Reflection amplitude coefficient approaching 1 leads to sharper resonance features coherent with what was observed in the $F(\\omega)$ plot above. As expected, everything breaks at $r=1$ because there is no leakage beam.\n",
    "\n",
    "3. Changing the refractive index or the cavity length shifts both plots across the x axis, this makes sense as the resonance frequency would also be changing at this point (and would be visible as some detuning number times the original carrier freq).\n",
    "\n",
    "4. Changing the carrier while keeping the above fixed would do much of the same thing for much of the same reasons.\n",
    "\n",
    "5. Changing the modulation frequency so that it's relatively close to the carrier does some weird things to the error signal's shape. \n",
    "\n",
    "6. Phase shifting the modulation signal appears to rotate the error signal about the x-axis rather than moving it along the axis as one might naively expect. In other words, changing the phase of the complex function along any point of the detuning axis such that it's projection onto the real plane changes.\n",
    "\n",
    "\n",
    "1 through 4 are boring, 5 and 6 seem cool. Below is a graph."
   ]
  },
  {
   "cell_type": "code",
   "execution_count": 10,
   "metadata": {},
   "outputs": [
    {
     "data": {
      "application/vnd.jupyter.widget-view+json": {
       "model_id": "2c4cbfcd232d45b6b1d4065f9547130c",
       "version_major": 2,
       "version_minor": 0
      },
      "text/plain": [
       "interactive(children=(FloatSlider(value=0.0, description='detune', max=1.0, min=-1.0, step=0.01), FloatSlider(…"
      ]
     },
     "metadata": {},
     "output_type": "display_data"
    },
    {
     "data": {
      "text/plain": [
       "<function __main__.plot_rotating_L(detune=0.0, phase_shift=0.0, mod_freq=0.5)>"
      ]
     },
     "execution_count": 10,
     "metadata": {},
     "output_type": "execute_result"
    }
   ],
   "source": [
    "import numpy as np\n",
    "import matplotlib.pyplot as plt\n",
    "from ipywidgets import interact, FloatSlider\n",
    "from matplotlib.lines import Line2D\n",
    "\n",
    "def F_of_omega(omega, gamma=1.0):\n",
    "    delta = omega\n",
    "    return delta / (delta + 1j*gamma)\n",
    "\n",
    "def delta_pdh(omega, wm, gamma=1.0):\n",
    "    F0 = F_of_omega(omega, gamma)\n",
    "    Fp = F_of_omega(omega + wm, gamma)\n",
    "    Fm = F_of_omega(omega - wm, gamma)\n",
    "    return F0*np.conj(Fm) - np.conj(F0)*Fp\n",
    "\n",
    "def plot_rotating_L(detune=0.0, phase_shift=0.0, mod_freq=0.5):\n",
    "    omega = detune * 4\n",
    "    delta  = delta_pdh(omega, wm=mod_freq, gamma=1.0)     \n",
    "    theta  = np.deg2rad(phase_shift)\n",
    "    RTheta = np.exp(1j*theta)                               \n",
    "\n",
    "    R0, I0 = np.real(delta), np.imag(delta)           \n",
    "    real_leg_tip_baseline = R0 + 0j                 \n",
    "    imag_leg_vec_baseline  = 0 + 1j*I0           \n",
    "\n",
    "    real_leg_tip = RTheta * real_leg_tip_baseline\n",
    "    imag_leg_tip = real_leg_tip + RTheta * imag_leg_vec_baseline\n",
    "    tip_vec      = RTheta * (R0 + 1j*I0)           \n",
    "\n",
    "    proj = tip_vec.real                            \n",
    "\n",
    "    REAL_COLOR, IMAG_COLOR, RES_COLOR, PROJ_COLOR, AX_COLOR = \"#1f77b4\", \"#d62728\", \"#2ca02c\", \"#9467bd\", \"#555\"\n",
    "    fig, ax = plt.subplots(figsize=(7,7))\n",
    "    ax.set_aspect('equal', 'box')\n",
    "    ax.spines[['top','right']].set_visible(False)\n",
    "    ax.grid(True, alpha=0.15, linewidth=0.6)\n",
    "    ax.set_xlabel('Real'); ax.set_ylabel('Imag')\n",
    "    ax.set_title('PDH Phasor Graph (Rotating L)')\n",
    "\n",
    "    mags = [np.abs(real_leg_tip), np.abs(imag_leg_tip), np.abs(tip_vec), 1.0]\n",
    "    lim = 1.2*max(mags)\n",
    "    ax.set_xlim(-lim, lim); ax.set_ylim(-lim, lim)\n",
    "    ax.axhline(0, lw=1, color=AX_COLOR, alpha=0.6)\n",
    "    ax.axvline(0, lw=1, color=AX_COLOR, alpha=0.6)\n",
    "\n",
    "    ax.arrow(0, 0, real_leg_tip.real, real_leg_tip.imag,\n",
    "             head_width=0.03*lim, head_length=0.05*lim, length_includes_head=True,\n",
    "             color=REAL_COLOR, linewidth=2)\n",
    "\n",
    "\n",
    "    ax.arrow(real_leg_tip.real, real_leg_tip.imag,\n",
    "             (imag_leg_tip-real_leg_tip).real, (imag_leg_tip-real_leg_tip).imag,\n",
    "             head_width=0.03*lim, head_length=0.05*lim, length_includes_head=True,\n",
    "             color=IMAG_COLOR, linewidth=2)\n",
    "\n",
    "    ax.arrow(0, 0, tip_vec.real, tip_vec.imag,\n",
    "             head_width=0.03*lim, head_length=0.05*lim, length_includes_head=True,\n",
    "             color=RES_COLOR, alpha=0.7, linewidth=2)\n",
    "\n",
    "    ax.arrow(0, 0, proj, 0,\n",
    "             head_width=0.03*lim, head_length=0.05*lim, length_includes_head=True,\n",
    "             color=PROJ_COLOR, linestyle='--', alpha=0.9, linewidth=2)\n",
    "\n",
    "    mag, ang = np.abs(tip_vec), np.angle(tip_vec, deg=True)\n",
    "\n",
    "\n",
    "    proxies = [Line2D([0],[0], color=REAL_COLOR, lw=3),\n",
    "               Line2D([0],[0], color=IMAG_COLOR, lw=3),\n",
    "               Line2D([0],[0], color=RES_COLOR, lw=3, alpha=0.7),\n",
    "               Line2D([0],[0], color=PROJ_COLOR, lw=3, ls='--', alpha=0.9)]\n",
    "    ax.legend(proxies, [\"Real leg\", \"Imag leg\", \"Resultant Δ·e^{iθ}\", \"Projection Re{Δ·e^{iθ}}\"],\n",
    "              loc=\"lower right\", frameon=True)\n",
    "\n",
    "    plt.show()\n",
    "\n",
    "interact(\n",
    "    plot_rotating_L,\n",
    "    detune=FloatSlider(value=0.0, min=-1.0, max=1.0, step=0.01, description='detune'),\n",
    "    phase_shift=FloatSlider(value=0.0, min=-360.0, max=360.0, step=1.0, description='phase_shift'),\n",
    "    mod_freq=FloatSlider(value=0.5, min=0.05, max=2.0, step=0.01, description='mod_freq'),\n",
    ")\n"
   ]
  },
  {
   "cell_type": "markdown",
   "metadata": {},
   "source": [
    "## 2.4 Error Signal\n",
    "\n",
    "Understanding the diagram above is predicated on understanding the following expression denoted above in Equation 3:\n",
    "\n",
    "$$\n",
    "P_{\\rm ref} \\approx \\Re\\{(F(\\omega)F^*(\\omega+\\omega_m) - F^*(\\omega)F(\\omega-\\omega_m))e^{i\\omega_m t}\\}\n",
    "$$\n",
    "\n",
    "This is not the full $P_{ref}$, we are ignoring the DC terms and the higher-order harmonics, but it's the part that will actually get modulated so it's what we care about. \n",
    "\n",
    "$F(\\omega)$ and $F(\\omega_m)$ are complex constants, they have real and imaginary components. We add these components tip to tail to get our resultant vector, this vector rotates around our origin at a rate of $\\omega_m$ by the complex exponential $e^{i\\omega_m t}$ At any given time, the reflected power we observe is equal to this vector's projection over the real axis. This is effectively observed as a cosine wave with an amplitude equal to that of the resultant vector oscillating at modulation frequency. We can then demodulate this tone via a phase mixer and pass it through an LPF to get the DC term. This DC term is our error signal and is functionally equivalent to:\n",
    "\n",
    "\n",
    "### Equation 4: Error Signal\n",
    "$$\n",
    "\\epsilon = \\frac{1}{2}\\Re\\{(F(\\omega)F^*(\\omega+\\omega_m) - F^*(\\omega)F(\\omega-\\omega_m))e^{i\\phi}\\}\n",
    "$$\n",
    "\n",
    "Where $\\phi$ is the mixer offset with respect to the original modulating signal. Now we are able to explain some of the more complicated behaviour observable in the error signal graphs.\n",
    "\n",
    "\n",
    "1. What detuning does: As we would expect, for low modulation frequencies the sign of our projection (purple arrow) flips as we move the detune slider from one end to the other. This is the odd-symmetric behaviour we would nominally expect. For high modulation frequencies the purple arrow goes back and forth quickly as the detuning slider is pulled further. This is coherent with what what is visible from error signal plots with modulation frequencies close to resonance.\n",
    "\n",
    "2. What modulation phase shift does: Modulation phase shift effectively induces a quadrature between our resultant vector (green arrow) and our modulation phasor. It's helpful to think of this green arrow as the expression of a structure composed of two basis terms. Detuning from resonance and changing the modulation frequency will alter the shape of this structure, imparting a phase shift relative to the modulating tone will rotate it with respect to wherever the modulating phasor is. Both phasors rotate at the modulation frequency $\\omega_m$. On the error signal graph this is also visible. If you look closely you will see that shifting the modulation phase rotates the error signal about the x axis.\n",
    "\n",
    "\n",
    "We see that imparting a phase shift on our modulator rotates the green vector, which represents the complex coefficient $\\gamma = F(\\omega)F^*(\\omega+\\omega_m) - F^*(\\omega)F(\\omega-\\omega_m)$. This vector is sensitive to detuning and our error signal is it's projection over the real axis. We want to make it such that the purple arrow moves as rapidly as possible outwards in either direction when we detune from resonance. The way we do this is by aligning our gamma such that it lies directly along the real axis, and thus in-phase with our modulating tone, as much as possible throughout our detuning range. Doing so will give us the largest possible dot product between the derivative of gamma with respect to frequency and the modulation vector. On the error signal graph this corresponds to the modulation phase shift that produces the sharpest possible slope about resonance.\n",
    "\n",
    "\n",
    "## Further Reading\n",
    "The above notebook made use of concepts and topics from [this paper](../Resources/BlackAJP01.pdf). More detailed math on how Bessel functions work can be found [here](../Resources/bessel.pdf).\n",
    "\n"
   ]
  }
 ],
 "metadata": {
  "kernelspec": {
   "display_name": ".venv",
   "language": "python",
   "name": "python3"
  },
  "language_info": {
   "codemirror_mode": {
    "name": "ipython",
    "version": 3
   },
   "file_extension": ".py",
   "mimetype": "text/x-python",
   "name": "python",
   "nbconvert_exporter": "python",
   "pygments_lexer": "ipython3",
   "version": "3.13.3"
  }
 },
 "nbformat": 4,
 "nbformat_minor": 2
}
