{
 "cells": [
  {
   "cell_type": "markdown",
   "metadata": {},
   "source": [
    "# Pound Drever Hall\n",
    "\n",
    "## 0.0 Introduction\n",
    "\n",
    "Pound–Drever–Hall (PDH) locking is a technique for extracting frequency offset information from a laser relative to a stable reference (e.g., a cavity). The method works by phase-modulating the laser beam to generate sidebands, which can be described using the Bessel expansion of a modulated sinusoid. The cavity reflects the carrier and sidebands differently, encoding frequency detuning into a phase shift of the reflected light. By demodulating this signal at the modulation frequency, we recover an error signal that is directly sensitive to frequency offset.\n",
    "\n",
    "This notebook provides a visual introduction to these ideas before diving into the underlying math.\n",
    "\n",
    "## 1.1 Sinusoid Modulation\n",
    "\n",
    "The first thing we will do is create a time-domain sinusoid, this will represent our laser beam. We then modulate this sinusoid via an electro-optic modulator (EOM). The EOM will periodically phase-shift the signal at some given modulation frequency. Both the modulated and unmodulated carrier waves are visible below. "
   ]
  },
  {
   "cell_type": "code",
   "execution_count": 352,
   "metadata": {},
   "outputs": [],
   "source": [
    "import numpy as np\n",
    "import matplotlib.pyplot as plt\n",
    "from ipywidgets import interact, FloatSlider\n",
    "from scipy.special import j0, j1\n",
    "\n",
    "# Generate time axis vectors\n",
    "t1 = np.linspace(0, 1, 1000)\n",
    "t2 = np.linspace(0, 10, 10000)\n",
    "\n",
    "C = 3e8\n",
    "\n",
    "freq = FloatSlider(value=4.4, min=0.1, max=10.0, step=0.1)\n",
    "mod_freq = FloatSlider(value=0.9, min=0.1, max=10.0, step=0.1)\n",
    "beta = FloatSlider(value=0.66, min=0.01, max=5.0, step=0.01)\n",
    "phase_shift = FloatSlider(value=180, min=0, max=360, step=1)\n",
    "\n",
    "refractive_index = FloatSlider(value=1.0, min=0.95, max=1.05, step=0.01)  # basically air\n",
    "cav_freq = FloatSlider(value=15e9, min=13e9, max=17e9, step=10e6)  # around one FSR\n",
    "amplitude_reflectivity = FloatSlider(value=0.95, min=0.8, max=1.0, step=0.01)\n",
    "\n",
    "\n",
    "def sinusoid(freq, t, phase_shift_degrees=0):\n",
    "    omega = 2 * np.pi * freq\n",
    "    y = np.cos(omega * t + np.pi * phase_shift_degrees / 180) \n",
    "    return y\n",
    "\n",
    "def modulated_sinusoid(freq, mod_freq, beta, t):\n",
    "    omega = 2 * np.pi * freq\n",
    "    y = np.cos(omega * t + beta * np.cos(2 * np.pi * mod_freq * t))\n",
    "    return y\n",
    "\n",
    "def get_sinusoid_spectrum(signal, t):\n",
    "    N = len(t)\n",
    "    dt = t[1] - t[0]\n",
    "    Y = np.fft.fftshift(np.fft.fft(signal))\n",
    "    f = np.fft.fftshift(np.fft.fftfreq(N, d=dt))\n",
    "    Y_mag = np.abs(Y) / np.max(np.abs(Y))\n",
    "    return f, Y_mag\n",
    "\n",
    "def reflected_sinusoid(freq, mod_freq, beta, phase_shift, t):\n",
    "    y = modulated_sinusoid(freq=freq, mod_freq=mod_freq, beta=beta, t=t) + sinusoid(freq=freq, phase_shift_degrees=phase_shift, t=t)\n",
    "    return y\n",
    "\n",
    "def beat_signal(freq, mod_freq, beta, phase_shift, t):\n",
    "    y1 = reflected_sinusoid(freq=freq, mod_freq=mod_freq, beta=beta, phase_shift=phase_shift, t=t)\n",
    "    y2 = sinusoid(freq=mod_freq, t=t)\n",
    "    return y1 * y2\n",
    "\n",
    "def beat_signal_vs_phase(freq, mod_freq, beta, t, n_points=361):\n",
    "    phases = np.linspace(0, 360, n_points)\n",
    "    means = []\n",
    "    for phi in phases:\n",
    "        y = beat_signal(freq=freq, mod_freq=mod_freq, beta=beta, phase_shift=phi, t=t)\n",
    "        means.append(np.mean(y))\n",
    "    return phases, np.array(means)\n",
    "\n",
    "def beat_signal_vs_phase_normalized(freq, mod_freq, beta, t, n_points=361):\n",
    "    phases = np.linspace(0, 360, n_points)\n",
    "    means = []\n",
    "    y_norm = np.mean(beat_signal(freq=freq, mod_freq=mod_freq, beta=beta, phase_shift=180, t=t))\n",
    "    for phi in phases:\n",
    "        y = beat_signal(freq=freq, mod_freq=mod_freq, beta=beta, phase_shift=phi, t=t) - y_norm\n",
    "        means.append(np.mean(y))\n",
    "    return phases, np.array(means)\n",
    "\n",
    "\n",
    "def ref_coefficient(frequency, cav_len, r, n):\n",
    "    omega = frequency * 2 * np.pi\n",
    "    fsr = C / (2*n*cav_len)\n",
    "    z = np.exp(1j * omega / fsr)\n",
    "    return r * (z - 1)/(1 - r**2 * z)\n",
    "\n",
    "\n",
    "def pdh_error(omega, wm, r, n, cav_len):\n",
    "    F0 = ref_coefficient(frequency=omega, cav_len=cav_len, r=r, n=n)                  \n",
    "    Fp = ref_coefficient(frequency=omega + wm, cav_len=cav_len, r=r, n=n)              \n",
    "    Fm = ref_coefficient(frequency=omega - wm, cav_len=cav_len, r=r, n=n)           \n",
    "    error = np.imag(F0 * np.conj(Fm) - np.conj(F0) * Fp)\n",
    "    return error\n",
    "\n",
    "\n",
    "def reflected_power_pdh(omega, wm, beta, r, n, cav_len):\n",
    "    F0 = ref_coefficient(frequency=omega, cav_len=cav_len, r=r, n=n)\n",
    "    Fp = ref_coefficient(frequency=omega + wm, cav_len=cav_len, r=r, n=n)\n",
    "    Fm = ref_coefficient(frequency=omega - wm, cav_len=cav_len, r=r, n=n)\n",
    "    \n",
    "    J0 = j0(beta)  \n",
    "    J1 = j1(beta)  \n",
    "    \n",
    "    power = (J0**2 * np.abs(F0)**2 + \n",
    "             J1**2 * (np.abs(Fp)**2 + np.abs(Fm)**2))\n",
    "    return power\n"
   ]
  },
  {
   "cell_type": "code",
   "execution_count": 353,
   "metadata": {},
   "outputs": [
    {
     "data": {
      "application/vnd.jupyter.widget-view+json": {
       "model_id": "9c09bb78356f4d3a854ea8efd6328ce2",
       "version_major": 2,
       "version_minor": 0
      },
      "text/plain": [
       "interactive(children=(FloatSlider(value=4.4, description='freq', max=10.0, min=0.1), Output()), _dom_classes=(…"
      ]
     },
     "metadata": {},
     "output_type": "display_data"
    },
    {
     "data": {
      "application/vnd.jupyter.widget-view+json": {
       "model_id": "d02dd2be8d6d4c6d9cc4520bd2829445",
       "version_major": 2,
       "version_minor": 0
      },
      "text/plain": [
       "interactive(children=(FloatSlider(value=4.4, description='freq', max=10.0, min=0.1), FloatSlider(value=0.9, de…"
      ]
     },
     "metadata": {},
     "output_type": "display_data"
    },
    {
     "data": {
      "text/plain": [
       "<function __main__.plot_modulated_sinusoid(freq, mod_freq, beta)>"
      ]
     },
     "execution_count": 353,
     "metadata": {},
     "output_type": "execute_result"
    }
   ],
   "source": [
    "def plot_sinusoid(freq):\n",
    "    T = t1\n",
    "    y = sinusoid(freq=freq, t=T)\n",
    "    plt.figure(figsize=(8,4))\n",
    "    plt.plot(T, y, label=fr'cos(2pi * {freq}t)')\n",
    "    plt.xlabel(\"Time (s)\")\n",
    "    plt.ylabel(\"Amplitude\")\n",
    "    plt.title(\"Unmodulated Carrier\")\n",
    "    plt.grid(True)\n",
    "    plt.legend()\n",
    "    plt.show()\n",
    "\n",
    "def plot_modulated_sinusoid(freq, mod_freq, beta):\n",
    "    T = t1\n",
    "    y = modulated_sinusoid(freq=freq, mod_freq=mod_freq, beta=beta, t=T)\n",
    "    plt.figure(figsize=(8,4))\n",
    "    plt.plot(T, y, label=fr'cos(2pi * {freq} * t + {beta:.2e}*cos(2pi*{mod_freq:.2e}t))')\n",
    "    plt.xlabel(\"Time (s)\")\n",
    "    plt.ylabel(\"Amplitude\")\n",
    "    plt.title(\"Modulated Carrier\")\n",
    "    plt.grid(True)\n",
    "    plt.legend()\n",
    "    plt.show()\n",
    "\n",
    "interact(plot_sinusoid, freq=freq)\n",
    "interact(plot_modulated_sinusoid, freq=freq, mod_freq=mod_freq, beta=beta)"
   ]
  },
  {
   "cell_type": "markdown",
   "metadata": {},
   "source": [
    "If we look at the modulated signal we see something that seems similar to multiple sinusoidal signals with different frequencies superimposing themselves on each other. This can be proven with the Jacobi-Anger identity but for now we'll just grab the frequency spectrum and see what happens. "
   ]
  },
  {
   "cell_type": "code",
   "execution_count": 354,
   "metadata": {},
   "outputs": [
    {
     "data": {
      "application/vnd.jupyter.widget-view+json": {
       "model_id": "19fb7abc90874c9cb087cade25fc1fb1",
       "version_major": 2,
       "version_minor": 0
      },
      "text/plain": [
       "interactive(children=(FloatSlider(value=4.4, description='freq', max=10.0, min=0.1), FloatSlider(value=0.9, de…"
      ]
     },
     "metadata": {},
     "output_type": "display_data"
    },
    {
     "data": {
      "text/plain": [
       "<function __main__.plot_spectrum_modulated_sinusoid(freq, mod_freq, beta)>"
      ]
     },
     "execution_count": 354,
     "metadata": {},
     "output_type": "execute_result"
    }
   ],
   "source": [
    "\n",
    "def plot_spectrum_modulated_sinusoid(freq, mod_freq, beta):\n",
    "    T = t2\n",
    "    y = modulated_sinusoid(freq=freq, mod_freq=mod_freq, beta=beta, t=T)\n",
    "    f, Y_mag = get_sinusoid_spectrum(signal=y, t=T)\n",
    "    plt.figure(figsize=(10,5))\n",
    "    plt.plot(f, Y_mag)\n",
    "    plt.title(\"Frequency Spectrum of Phase-Modulated Signal\")\n",
    "    plt.xlabel(\"Frequency (Hz)\")\n",
    "    plt.ylabel(\"Normalized Magnitude\")\n",
    "    plt.xlim(freq-5*mod_freq, freq+5*mod_freq)\n",
    "    plt.grid(True)\n",
    "    plt.show()\n",
    "\n",
    "interact(plot_spectrum_modulated_sinusoid, \n",
    "         freq=freq, \n",
    "         mod_freq=mod_freq, \n",
    "         beta=beta)"
   ]
  },
  {
   "cell_type": "markdown",
   "metadata": {},
   "source": [
    "We can see that for modulation frequencies less than the carrier frequency, and for comparatively small values of beta, we generally observe two prominent 'sidebands' equidistant on each side of the dominant band (which as you'd expect is the carrier frequency). For now we can assume that a properly designed PDH system will ensure that the modulation frequency is much lower than the carrier frequency and that our beta is fairly small.\n",
    "\n",
    "## 1.2 Cavity interference\n",
    "We can make the assumption that our modulating signal is very resistant to frequency drift. If we could find a way to translate frequency offset into a phase offset, we could then get a beat signal by superimposing the two fields and demodulating them with respect to our modulating tone. Taking the DC term of this signal would get us a value that is bijective (within our operating range) with the phase offset and thus the frequency offset. In other words, if the beat signal is odd-symmetric around our modulating tone, demodulating it with respect to that tone will allow us to obtain the magnitude and sign of our frequency offset. In other words, we should:\n",
    "\n",
    "1. Impart a phase-shift on a signal with respect to frequency drift that is odd-symmetric\n",
    "2. Make the phase shift as sharp as possible so we can detect it easily\n",
    "3. Center it on our target carrier frequency that we are trying to correct to\n",
    "\n",
    "We accomplish the three objectives above through either a Fabry-Perot cavity or a ring resonator. For what we care about they are functionally the same. We rotate the carrier with respect to frequency offset and demodulate the reflected field with respect to the modulation frequency.\n",
    "\n",
    "For the code below, we assume a perfect cavity respose i.e. only the carrier component of our incident field is reflected. This is done to simplify the code. "
   ]
  },
  {
   "cell_type": "code",
   "execution_count": 355,
   "metadata": {},
   "outputs": [
    {
     "data": {
      "application/vnd.jupyter.widget-view+json": {
       "model_id": "9172f57c47394109be86d62b2103dabb",
       "version_major": 2,
       "version_minor": 0
      },
      "text/plain": [
       "interactive(children=(FloatSlider(value=4.4, description='freq', max=10.0, min=0.1), FloatSlider(value=0.9, de…"
      ]
     },
     "metadata": {},
     "output_type": "display_data"
    },
    {
     "data": {
      "text/plain": [
       "<function __main__.plot_reflected_sinusoid(freq, mod_freq, beta, phase_shift)>"
      ]
     },
     "execution_count": 355,
     "metadata": {},
     "output_type": "execute_result"
    }
   ],
   "source": [
    "def plot_reflected_sinusoid(freq, mod_freq, beta, phase_shift):\n",
    "    y = reflected_sinusoid(freq=freq, mod_freq=mod_freq, beta=beta, phase_shift=phase_shift, t=t1)\n",
    "    yf = reflected_sinusoid(freq=freq, mod_freq=mod_freq, beta=beta, phase_shift=phase_shift, t=t2)\n",
    "    f, Y_mag = get_sinusoid_spectrum(signal=yf, t=t2)\n",
    "    \n",
    "    plt.figure(figsize=(8,4))\n",
    "    plt.plot(t1, y)\n",
    "    plt.xlabel(\"Time (s)\")\n",
    "    plt.ylabel(\"Amplitude\")\n",
    "    plt.title(\"Reflected Field\")\n",
    "    plt.grid(True)\n",
    "    plt.legend()\n",
    "    plt.show()\n",
    "    \n",
    "    plt.figure(figsize=(10,5))\n",
    "    plt.plot(f, Y_mag)\n",
    "    plt.title(\"Frequency Spectrum of Reflected Field\")\n",
    "    plt.xlabel(\"Frequency (Hz)\")\n",
    "    plt.ylabel(\"Normalized Magnitude\")\n",
    "    plt.xlim(freq-5*mod_freq, freq+5*mod_freq)\n",
    "    plt.grid(True)\n",
    "    plt.show()\n",
    "\n",
    "interact(plot_reflected_sinusoid, freq=freq, mod_freq=mod_freq, beta=beta, phase_shift=phase_shift)"
   ]
  },
  {
   "cell_type": "markdown",
   "metadata": {},
   "source": [
    "## 1.3 Beat Signal\n",
    "\n",
    "We can see that the time-domain representation of our reflected field takes on an interesting shape, and looking at the frequency-domain representation of that field we can see that for small phase offsets around a 180-degree baseline that the carrier tone is mostly eliminated (there are a couple reasons it doesn't disappear completely but that's not relevant for now). Now we can demodulate this reflection to obtain our beat signal. "
   ]
  },
  {
   "cell_type": "code",
   "execution_count": 356,
   "metadata": {},
   "outputs": [
    {
     "data": {
      "application/vnd.jupyter.widget-view+json": {
       "model_id": "32a87c70b6834ae4a0cb66d7dd5c13db",
       "version_major": 2,
       "version_minor": 0
      },
      "text/plain": [
       "interactive(children=(FloatSlider(value=4.4, description='freq', max=10.0, min=0.1), FloatSlider(value=0.9, de…"
      ]
     },
     "metadata": {},
     "output_type": "display_data"
    },
    {
     "data": {
      "text/plain": [
       "<function __main__.plot_beat_signal(freq, mod_freq, beta, phase_shift)>"
      ]
     },
     "execution_count": 356,
     "metadata": {},
     "output_type": "execute_result"
    }
   ],
   "source": [
    "def plot_beat_signal(freq, mod_freq, beta, phase_shift):\n",
    "    y = beat_signal(freq=freq, mod_freq=mod_freq, beta=beta, phase_shift=phase_shift, t=t1)\n",
    "\n",
    "    dc_term = np.mean(y)\n",
    "    print(f\"Mean (DC component) of beat signal: {dc_term:.6f}\")\n",
    "    \n",
    "    plt.figure(figsize=(8,4))\n",
    "    plt.plot(t1, y, label=\"Beat signal\")\n",
    "    plt.axhline(dc_term, color=\"red\", linestyle=\"--\", label=f\"Mean = {dc_term:.3e}\")\n",
    "    plt.xlabel(\"Time (s)\")\n",
    "    plt.ylabel(\"Amplitude\")\n",
    "    plt.title(\"Beat Signal\")\n",
    "    plt.grid(True)\n",
    "    plt.legend()\n",
    "    plt.show()\n",
    "\n",
    "interact(plot_beat_signal, freq=freq, mod_freq=mod_freq, beta=beta, phase_shift=phase_shift)"
   ]
  },
  {
   "cell_type": "markdown",
   "metadata": {},
   "source": [
    "We can see from the above that if our modulated signal is properly formed (two prominent sidebands), then small phase adjustments around the baseline rotation of 180 degrees results in a mean value that appears to be odd-symmetric and increasing/decreasing monotonically with respect to phase shift from baseline. The graph below plots this relationship out explicitly.  "
   ]
  },
  {
   "cell_type": "code",
   "execution_count": 357,
   "metadata": {},
   "outputs": [
    {
     "data": {
      "application/vnd.jupyter.widget-view+json": {
       "model_id": "37c7e88f586842deb2e90230b3d6b99d",
       "version_major": 2,
       "version_minor": 0
      },
      "text/plain": [
       "interactive(children=(FloatSlider(value=4.4, description='freq', max=10.0, min=0.1), FloatSlider(value=0.9, de…"
      ]
     },
     "metadata": {},
     "output_type": "display_data"
    },
    {
     "data": {
      "text/plain": [
       "<function __main__.plot_beat_signal_vs_phase(freq, mod_freq, beta)>"
      ]
     },
     "execution_count": 357,
     "metadata": {},
     "output_type": "execute_result"
    }
   ],
   "source": [
    "def plot_beat_signal_vs_phase(freq, mod_freq, beta):\n",
    "    phis, ys = beat_signal_vs_phase(freq=freq, mod_freq=mod_freq, beta=beta, t=t1)\n",
    "\n",
    "    idx = np.argmin(np.abs(phis - 180))\n",
    "    intercept_phase = phis[idx]\n",
    "    intercept_value = ys[idx]\n",
    "\n",
    "    plt.figure(figsize=(8,4))\n",
    "    plt.plot(phis, ys, label=\"Mean beat signal\")\n",
    "    plt.axhline(0, color=\"black\", linestyle=\"--\", linewidth=0.8)\n",
    "\n",
    "    plt.plot(intercept_phase, intercept_value, 'ro', label=f\"180° intercept ({intercept_value:.3e})\")\n",
    "    plt.axvline(intercept_phase, color=\"red\", linestyle=\"--\", linewidth=0.8)\n",
    "\n",
    "    plt.xlabel(\"Phase (Degrees)\")\n",
    "    plt.ylabel(\"DC Value\")\n",
    "    plt.title(\"Cavity Carrier Rotation vs Beat Signal DC Term\")\n",
    "    plt.grid(True)\n",
    "    plt.legend()\n",
    "    plt.show()\n",
    "\n",
    "interact(plot_beat_signal_vs_phase, freq=freq, mod_freq=mod_freq, beta=beta)"
   ]
  },
  {
   "cell_type": "markdown",
   "metadata": {},
   "source": [
    "What we are looking at above can be thought of as a sort of toy representation of a PDH error signal. The basic shape is similar but a lot of factors present in a real-world implementation were not accounted for. We also haven't bothered to compute phase offset from frequency offset and display the error signal as a result of a frequency sweep, which would probably be more useful. Rather, we just assume that the cavity does its job properly and rotates our carrier term by some given amount depending on its frequency offset.\n",
    "\n",
    "However, we can still see that this 'Toy Error Signal' is odd-symmetric around our 180-degree offset and is also monotonic in either direction up to a given point. Past this point the derivative changes signs and our error signal is no longer reliable (the bijection from frequency offset to beat signal DC term alluded to earlier breaks down). It's natural to ask if one should make sure to avoid excessive phase offsets (and by extension excessive frequency offsets). This is why servo controllers are combined with a separate acquisition strategy (e.g. sweep-and-hold, or an auxiliary wide-range actuator) to get the laser close enough that the PDH slope is reliable. \n",
    "\n",
    "We also see that there is generally some small offset at 180 degrees (cavity resonance). If we know what this offset, which can be obtained from the cavity response transfer function, we can normalize accordingly. "
   ]
  },
  {
   "cell_type": "code",
   "execution_count": 358,
   "metadata": {},
   "outputs": [
    {
     "data": {
      "application/vnd.jupyter.widget-view+json": {
       "model_id": "403b044826e34a5e930b98c2b090d000",
       "version_major": 2,
       "version_minor": 0
      },
      "text/plain": [
       "interactive(children=(FloatSlider(value=4.4, description='freq', max=10.0, min=0.1), FloatSlider(value=0.9, de…"
      ]
     },
     "metadata": {},
     "output_type": "display_data"
    },
    {
     "data": {
      "text/plain": [
       "<function __main__.plot_beat_signal_vs_phase_normalized(freq, mod_freq, beta)>"
      ]
     },
     "execution_count": 358,
     "metadata": {},
     "output_type": "execute_result"
    }
   ],
   "source": [
    "def plot_beat_signal_vs_phase_normalized(freq, mod_freq, beta):\n",
    "    phis, ys = beat_signal_vs_phase_normalized(freq=freq, mod_freq=mod_freq, beta=beta, t=t1)\n",
    "    idx = np.argmin(np.abs(phis - 180))\n",
    "    intercept_phase = phis[idx]\n",
    "    intercept_value = ys[idx]\n",
    "    plt.figure(figsize=(8,4))\n",
    "    plt.plot(phis, ys, label=\"Mean beat signal\")\n",
    "    plt.axhline(0, color=\"black\", linestyle=\"--\", linewidth=0.8)\n",
    "    plt.plot(intercept_phase, intercept_value, 'ro', label=f\"180° intercept ({intercept_value:.3e})\")\n",
    "    plt.axvline(intercept_phase, color=\"red\", linestyle=\"--\", linewidth=0.8)\n",
    "    plt.xlabel(\"Phase (Degrees)\")\n",
    "    plt.ylabel(\"DC Value\")\n",
    "    plt.title(\"Cavity Carrier Rotation vs Normalized Beat Signal DC Term\")\n",
    "    plt.grid(True)\n",
    "    plt.legend()\n",
    "    plt.show()\n",
    "\n",
    "interact(plot_beat_signal_vs_phase_normalized, freq=freq, mod_freq=mod_freq, beta=beta)"
   ]
  },
  {
   "cell_type": "markdown",
   "metadata": {},
   "source": [
    "## 2.1 Bessel Expansion\n",
    "\n",
    "As mentioned earlier, PDH exploits the frequency domain characteristics of a modulated sinusoid, these characteristics are visible in the Bessel function expansion of the signal via the Jacobi-Anger identity. \n",
    "\n",
    "\n",
    "$$\n",
    "e^{i\\beta \\sin(\\omega_mt)} = \\sum_{n=-\\infty}^\\infty J_n(\\beta)e^{in\\omega_mt}\n",
    "$$\n",
    "\n",
    "Given our modulated sinusoid signal, as visible from the code:\n",
    "\n",
    "#### Equation 1: Bessel Expansion of Modulated Sinusoid\n",
    "\n",
    "$$\n",
    "cos(\\omega t + \\beta \\sin(\\omega_mt)) = \\mathbb{R}\\{e^{i\\omega t}e^{i\\beta \\sin(\\omega_m t)}\\} = \\mathbb{R}\\{e^{i\\omega t}\\sum_{n=-\\infty}^\\infty J_n(\\beta)e^{in\\omega_m t}\\}\n",
    "$$\n",
    "\n",
    "Where\n",
    "\n",
    "$$\n",
    "J_n(\\beta) = \\frac{1}{2\\pi}\\int_0^{2\\pi}\\cos(n\\theta - \\beta \\sin(\\theta))d\\theta\n",
    "$$\n",
    "\n",
    "It's relatively easy to see from the integral above that for small values of beta and large values of n, the overall magnitude will be quite low. Integrating a high-frequency sinusoid across a large number of cycles will tend to yield a very small average value. The beta scaled sinusoidal offset can counter this by introducing a DC term into beat signal when we demodulate the the series but for small values of beta this DC term is negligible. In other words, we can say that for small values of beta we only really care about the first two terms $J_0$ and $J_1$\n",
    "\n",
    "Evaluating 1. we get:\n",
    "\n",
    "$$\n",
    "cos(\\omega t + \\beta \\sin(\\omega_m t)) \\approx J_0(\\beta)\\cos(\\omega t) - J_1(\\beta)[\\cos((\\omega + \\omega_m)t) - \\cos((\\omega - \\omega_m)t)]\n",
    "$$\n",
    "\n",
    "Where:\n",
    "$$\n",
    "J_0(\\beta) \\approx 1 - \\frac{\\beta^2}{4} \\newline J_1(\\beta) \\approx \\frac{\\beta}{2}\n",
    "$$\n",
    "\n",
    "\n",
    "What all this means is that if our beta is small, when we take the frequency spectrum of our signal we should see three main contributions present. One large one at the carrier frequency and two smaller ones at the carrier frequency plus or minus the modulation frequency. These are the sidebands. This is easily verifiable by playing around with beta in the frequency spectrum plots above. When beta is made larger the other Bessel functions are able to contribute more and the frequency spectrum acquires more spikes. We don't want this so we make sure beta is small.\n",
    "\n",
    "\n",
    "## 2.2 Reflection Coefficient\n",
    "We have our current toy PDH error signal but it is not really reflective of what a real PDH error signal looks like beyond the general idea of being odd-symmetric around a central point. The next step is to get a realistic signal.\n",
    "\n",
    "We define our fields as follows:\n",
    "\n",
    "$$\n",
    "E_{inc} = E_0e^{i\\omega t}\\newline\n",
    "E_{ref} = E_1e^{i\\omega t}\n",
    "$$\n",
    "Where $E_0$ and $E_1$ are complex constants in order to account for phase differences between the two signals.\n",
    "\n",
    "\n",
    "Assuming a symmetric Fabry-Perot cavity with no losses, the reflection coefficient can be obtained as follows:\n",
    "\n",
    "#### Equation 2: Reflection Coefficient\n",
    "\n",
    "$$\n",
    "F(\\omega) = \\frac{E_{ref}}{E_{inc}} = \\frac{r(e^{i\\frac{\\omega}{\\Delta v_{fsr}}}-1)}{1-r^2e^{i\\frac{\\omega}{\\Delta v_{fsr}}}}\n",
    "$$\n",
    "\n",
    "Where $r$ is the amplitude reflection coefficient and $\\Delta v_{fsr} = \\frac{c}{2L}$ is the free spectral range (distance between modes) for a cavity with length $L$.\n",
    "\n",
    "\n",
    "We can think of the reflection coefficient as a complex-valued vector with a phase angle dependent on the carrier frequency. The reflected field is then simply the incident field stretched and rotated in the complex plane by this reflection coefficient vector. Most of the time the reflection coefficient vector is relatively real-valued and constant magnitude. However, when approaching resonance it becomes almost entirely imaginary and flips over the real axis from +-i to -+i during resonance. At resonance the magnitude is zero. This sign flip also means that the cavity response is odd-symmetric about resonance. Below is a visualization:"
   ]
  },
  {
   "cell_type": "code",
   "execution_count": 359,
   "metadata": {},
   "outputs": [
    {
     "data": {
      "application/vnd.jupyter.widget-view+json": {
       "model_id": "d63864f3213b413c8cb73f2f9e98861e",
       "version_major": 2,
       "version_minor": 0
      },
      "text/plain": [
       "interactive(children=(FloatSlider(value=15000000000.0, description='frequency', max=17000000000.0, min=1300000…"
      ]
     },
     "metadata": {},
     "output_type": "display_data"
    },
    {
     "data": {
      "text/plain": [
       "<function __main__.plot_ref_coefficient(frequency, r, n)>"
      ]
     },
     "execution_count": 359,
     "metadata": {},
     "output_type": "execute_result"
    }
   ],
   "source": [
    "SPAN = 1.2\n",
    "N = 4001\n",
    "\n",
    "def plot_ref_coefficient(frequency, r, n):\n",
    "    cav_len = 0.01\n",
    "    F = ref_coefficient(frequency=frequency, r=r, n=n, cav_len=cav_len)\n",
    "\n",
    "    plt.figure(figsize=(6,6))\n",
    "    plt.quiver(0, 0, F.real, F.imag,\n",
    "               angles='xy', scale_units='xy', scale=1,\n",
    "               color='b', label=f'F(f), |F|={abs(F):.2f}')\n",
    "\n",
    "    plt.axhline(0, color='k', lw=0.5)\n",
    "    plt.axvline(0, color='k', lw=0.5)\n",
    "    plt.gca().set_aspect('equal', 'box')\n",
    "\n",
    "    plt.xlim(-1.2, 1.2)\n",
    "    plt.ylim(-1.2, 1.2)\n",
    "\n",
    "    plt.title('Fabry-Pérot Reflection Coefficient F(f)')\n",
    "    plt.xlabel('Re{F}')\n",
    "    plt.ylabel('Im{F}')\n",
    "    plt.legend()\n",
    "    plt.grid(True)\n",
    "\n",
    "    fsr = C / (2*n*cav_len)\n",
    "    nu = np.linspace(-SPAN*fsr/2, SPAN*fsr/2, N)\n",
    "    x = nu/fsr\n",
    "    phi = (2 * np.pi * x)\n",
    "    z = np.exp(1j * phi)\n",
    "    K = (r * (z - 1)) / (1 - (r**2) * z)\n",
    "    mag = np.abs(K)\n",
    "    phase = np.unwrap(np.angle(K))  # radians\n",
    "\n",
    "    plt.figure(figsize=(10,4))\n",
    "    plt.plot(x, mag, lw=2)\n",
    "    plt.xlabel('Detuning f / FSR')\n",
    "    plt.ylabel('|F(f)|')\n",
    "    plt.title('Reflected Amplitude |F(f)| vs Detuning')\n",
    "    plt.grid(True)\n",
    "\n",
    "    plt.figure(figsize=(10,4))\n",
    "    plt.plot(x, phase, lw=2)\n",
    "    plt.xlabel('Detuning f / FSR')\n",
    "    plt.ylabel('arg F(f)')\n",
    "    plt.title('Reflected Phase arg F(f) vs Detuning')\n",
    "    plt.grid(True)\n",
    "\n",
    "    plt.show()\n",
    "\n",
    "\n",
    "interact(plot_ref_coefficient, frequency=cav_freq, r=amplitude_reflectivity, n=refractive_index)"
   ]
  },
  {
   "cell_type": "markdown",
   "metadata": {},
   "source": [
    "As we detune the frequency, the reflection coefficient $F(\\omega)$ traces a circle on the left side of the complex plane, consistent with the literature. If we set $r=1$, this behavior disappears. This is because the input mirror is a perfect reflector, no leakage field exists, and the total reflection is a constant $\\pi$-phase flip $F(\\omega) = -1$ (purely real, no frequency dependence).  \n",
    "\n",
    "For $r < 1$ (symmetric, lossless cavity), the interference between the prompt and leakage fields drives $|F|$ to zero at resonance, and $\\arg(F)$ flips sign across resonance. This is exactly the odd-symmetric response PDH exploits.\n",
    "\n",
    "For all other frequencies there is little transformation beyond the $\\pi$-phase flip. This explains why we can expect our sidebands to not be strongly affected by a properly designed cavity.\n",
    "\n",
    "\n",
    "## 2.3 Power Signal\n",
    "\n",
    "Define incident field:\n",
    "\n",
    "$$\n",
    "E_{inc} = E_0e^{i\\omega t + \\beta \\cos(\\omega_m t)}\n",
    "$$\n",
    "\n",
    "From 2.1:\n",
    "$$\n",
    "= E_0 * (J_0(\\beta)\\cos(\\omega t) - J_1(\\beta)[\\cos((\\omega + \\omega_m)t) - \\cos((\\omega - \\omega_m)t)])\n",
    "$$\n",
    "\n",
    "Where:\n",
    "$$\n",
    "J_0(\\beta) \\approx 1 - \\frac{\\beta^2}{4} \\newline J_1(\\beta) \\approx \\frac{\\beta}{2}\n",
    "$$\n",
    "\n",
    "\n",
    "Then, given our reflection coefficient $F(\\omega)$:\n",
    "\n",
    "$$\n",
    "E_{ref} = F(\\omega)E_{inc} = E_0 * (F(\\omega)J_0(\\beta)\\cos(\\omega t) - J_1(\\beta) * [F(\\omega + \\omega_m)\\cos((\\omega + \\omega_m)t) - F(\\omega - \\omega_m)\\cos((\\omega - \\omega_m)t)])\n",
    "$$\n",
    "\n",
    "\n",
    "We can also represent it in its complex exponential form:\n",
    "\n",
    "$$\n",
    "E_{ref} = F(\\omega)E_{inc} = E_0 * (F(\\omega)J_0(\\beta)e^{i \\omega t} - J_1(\\beta) * [F(\\omega + \\omega_m)e^{i(\\omega + \\omega_m)t} - F(\\omega - \\omega_m)e^{i(\\omega - \\omega_m)t}])\n",
    "$$\n",
    "\n",
    "Where $P_{ref} = |E_{ref}|^2$:\n",
    "\n",
    "#### Equation 3: Power Signal\n",
    "$$\n",
    "P_{\\rm ref}\n",
    "= P_c\\,|F(\\omega)|^2\n",
    "+ P_s\\big(|F(\\omega+\\omega_m)|^2 + |F(\\omega-\\omega_m)|^2\\big) \\newline\n",
    "+ 2\\sqrt{P_c P_s}\\,\\Big\\{\n",
    "\\Re\\!\\big[F(\\omega)F^*(\\omega+\\omega_m) - F^*(\\omega)F(\\omega-\\omega_m)\\big]\\cos(\\omega_m t)\\newline\n",
    "+ \\Im\\!\\big[F(\\omega)F^*(\\omega+\\omega_m) - F^*(\\omega)F(\\omega-\\omega_m)\\big]\\sin(\\omega_m t)\n",
    "\\Big\\}\\newline\n",
    "+ \\text{(2$\\omega_m$ terms)}\n",
    "$$\n",
    "\n",
    "Where:\n",
    "\n",
    "$$\n",
    "P_c = J_0^2(\\beta)P_0\n",
    "$$\n",
    "\n",
    "$$\n",
    "P_s = J_1^2(\\beta)P_0\n",
    "$$\n",
    "\n",
    "$$\n",
    "P_0 \\approx P_c + 2P_s\n",
    "$$\n",
    "\n",
    "\n",
    "\n",
    "### 2.3.1 Slow Modulation\n",
    "After a bunch of algebra and trig identities and the Taylor approximation $F(\\omega \\pm \\omega_m) \\approx F(\\omega) \\pm \\omega_m\\frac{dF}{d\\omega}$ which is possible when the modulation frequency is relatively slow ($\\omega + \\omega_m \\approx \\omega$), we get the following approximation:\n",
    "\n",
    "$$\n",
    "P_{ref} \\approx (constants) + P_0\\frac{d|F|^2}{d\\omega}\\omega_m\\beta\\cos(\\omega_m t)\n",
    "$$\n",
    "\n",
    "\n",
    "We measure this power signal through a photodiode, then demodulate the reading through a phase mixer with respect to our modulating tone $\\omega_m$. Integrating this via an LPF gives us our error signal:\n",
    "\n",
    "$$\n",
    "\\epsilon = P_0\\frac{d|F|^2}{d\\omega}\\omega_m \\approx 2\\sqrt{P_cP_s}\\frac{d|F|^2}{d\\omega}\\omega_m\n",
    "$$\n",
    "\n",
    "\n",
    "### 2.3.2 Fast Modulation\n",
    "When the carrier is near resonance and the modulation frequency is high enough that the sidebands are not, we make the assumption that they are almost totally reflected $F(\\omega\\pm\\omega_m) \\approx -1$. Solving Equation 3 with this substitution yields us the following two expressions:\n",
    "\n",
    "$$\n",
    "P_{ref} \\approx 2P_s - 4\\sqrt{P_cP_s}\\Im\\{F(\\omega)\\}\\sin(\\omega_m t)\n",
    "$$\n",
    "\n",
    "$$\n",
    "\\epsilon = -2\\sqrt{P_cP_s}\\Im\\{F(\\omega)F^*(\\omega + \\omega_m) - F^*(\\omega)F(\\omega - \\omega_m)\\}\n",
    "$$"
   ]
  },
  {
   "cell_type": "code",
   "execution_count": 360,
   "metadata": {},
   "outputs": [
    {
     "data": {
      "application/vnd.jupyter.widget-view+json": {
       "model_id": "4ed6fd3b9c5f47079280631a09fd924b",
       "version_major": 2,
       "version_minor": 0
      },
      "text/plain": [
       "interactive(children=(FloatSlider(value=10000000.0, description='Mod', max=100000000000000.0, min=10000000.0, …"
      ]
     },
     "metadata": {},
     "output_type": "display_data"
    },
    {
     "data": {
      "text/plain": [
       "<function __main__.plot_resonance(wm, beta, r, n, carrier_freq, cav_len)>"
      ]
     },
     "execution_count": 360,
     "metadata": {},
     "output_type": "execute_result"
    }
   ],
   "source": [
    "def plot_resonance(wm, beta, r, n, carrier_freq, cav_len):\n",
    "    omega_carrier = 2 * np.pi * carrier_freq\n",
    "    detunings = np.linspace(0.9, 1.1, 1000)\n",
    "    frequencies = omega_carrier * detunings\n",
    "    \n",
    "    P = [reflected_power_pdh(w, wm, beta, r, n, cav_len) for w in frequencies]\n",
    "    err = [pdh_error(w, wm, r, n, cav_len) for w in frequencies]\n",
    "\n",
    "    P_normalized = P / np.max(np.abs(P))\n",
    "    err_normalized = err / np.max(np.abs(err))\n",
    "\n",
    "    fig, (ax1, ax2) = plt.subplots(2, 1, figsize=(10, 8))\n",
    "    \n",
    "    ax1.plot(detunings, P_normalized, label=\"Reflected Power\", color=\"blue\", linewidth=2)\n",
    "    ax1.set_ylabel(\"Normalized Reflected Power\", color=\"blue\")\n",
    "    ax1.tick_params(axis='y', labelcolor=\"blue\")\n",
    "    ax1.set_ylim(-0.1, 1.1)\n",
    "    ax1.grid(True, alpha=0.3)\n",
    "    ax1.set_title(f\"Reflected Power (Modulation: {wm:.2e} Hz\\nCarrier: {carrier_freq:.2e} Hz)\")\n",
    "    ax1.axvline(1.0, color='red', linestyle='--', alpha=0.7, linewidth=1)\n",
    "    \n",
    "    ax2.plot(detunings, err_normalized, label=\"PDH Error\", color=\"red\", linewidth=2)\n",
    "    ax2.set_xlabel(\"ω / ω_res\")\n",
    "    ax2.set_ylabel(\"Normalized Error Signal\", color=\"red\")\n",
    "    ax2.tick_params(axis='y', labelcolor=\"red\")\n",
    "    ax2.set_ylim(-1.1, 1.1)\n",
    "    ax2.grid(True, alpha=0.3)\n",
    "    ax2.set_title(\"PDH Error Signal\")\n",
    "    ax2.axhline(0, color='black', linestyle='-', alpha=0.5)\n",
    "    ax2.axvline(1.0, color='red', linestyle='--', alpha=0.7, linewidth=1)\n",
    "\n",
    "    plt.tight_layout()\n",
    "    plt.show()\n",
    "\n",
    "\n",
    "carrier_slider = FloatSlider(value=100e16, min=10e6, max=100e12, step=1e6, \n",
    "                       description=\"Carrier\")\n",
    "cav_slider = FloatSlider(value=0.1e-5, min=0.01e-5, max=0.4e-5, step=1e-8, \n",
    "                       description=\"Cavity Length\")\n",
    "wm_slider = FloatSlider(value=10e6, min=10e6, max=100e12, step=1e6, \n",
    "                       description=\"Mod\")\n",
    "r_slider = FloatSlider(value=0.95, min=0.9, max=1.0, step=0.01, \n",
    "                       description=\"Reflection Coeff\")\n",
    "beta_slider = FloatSlider(value=0.3, min=0.1, max=1.4, step=0.04, \n",
    "                       description=\"Beta\")\n",
    "n_slider = FloatSlider(value=1.0, min=0.9, max=1.1, step=0.001, \n",
    "                       description=\"Refraction Coeff\")\n",
    "\n",
    "\n",
    "interact(plot_resonance, carrier_freq=carrier_slider, wm=wm_slider, beta=beta_slider, r=r_slider, n=n_slider, cav_len=cav_slider)\n",
    "\n"
   ]
  }
 ],
 "metadata": {
  "kernelspec": {
   "display_name": ".venv",
   "language": "python",
   "name": "python3"
  },
  "language_info": {
   "codemirror_mode": {
    "name": "ipython",
    "version": 3
   },
   "file_extension": ".py",
   "mimetype": "text/x-python",
   "name": "python",
   "nbconvert_exporter": "python",
   "pygments_lexer": "ipython3",
   "version": "3.13.3"
  }
 },
 "nbformat": 4,
 "nbformat_minor": 2
}
