{
 "cells": [
  {
   "cell_type": "markdown",
   "metadata": {},
   "source": [
    "# Pound Drever Hall\n",
    "\n",
    "## 0.0 Introduction\n",
    "\n",
    "Pound–Drever–Hall (PDH) locking is a technique for extracting frequency offset information from a laser relative to a stable reference (e.g., a cavity). The method works by phase-modulating the laser beam to generate sidebands, which can be described using the Bessel expansion of a modulated sinusoid. The cavity reflects the carrier and sidebands differently, encoding frequency detuning into a phase shift of the reflected light. By demodulating this signal at the modulation frequency, we recover an error signal that is directly sensitive to frequency offset.\n",
    "\n",
    "This notebook provides a visual introduction to these ideas before diving into the underlying math.\n",
    "\n",
    "## 1.1 Sinusoid Modulation\n",
    "\n",
    "The first thing we will do is create a time-domain sinusoid, this will represent our laser beam. We then modulate this sinusoid via an electro-optic modulator (EOM). The EOM will periodically phase-shift the signal at some given modulation frequency. Both the modulated and unmodulated carrier waves are visible below. "
   ]
  },
  {
   "cell_type": "code",
   "execution_count": 273,
   "metadata": {},
   "outputs": [],
   "source": [
    "import numpy as np\n",
    "import matplotlib.pyplot as plt\n",
    "from ipywidgets import interact, FloatSlider\n",
    "\n",
    "# Generate time axis vectors\n",
    "t1 = np.linspace(0, 1, 1000)\n",
    "t2 = np.linspace(0, 10, 10000)\n",
    "\n",
    "\n",
    "freq = FloatSlider(value=4.4, min=0.1, max=10.0, step=0.1)\n",
    "mod_freq = FloatSlider(value=0.9, min=0.1, max=10.0, step=0.1)\n",
    "beta = FloatSlider(value=0.66, min=0.01, max=5.0, step=0.01)\n",
    "phase_shift = FloatSlider(value=180, min=0, max=360, step=1)\n",
    "\n",
    "def sinusoid(freq, t, phase_shift_degrees=0):\n",
    "    omega = 2 * np.pi * freq\n",
    "    y = np.cos(omega * t + np.pi * phase_shift_degrees / 180) \n",
    "    return y\n",
    "\n",
    "def modulated_sinusoid(freq, mod_freq, beta, t):\n",
    "    omega = 2 * np.pi * freq\n",
    "    y = np.cos(omega * t + beta * np.cos(2 * np.pi * mod_freq * t))\n",
    "    return y\n",
    "\n",
    "def get_sinusoid_spectrum(signal, t):\n",
    "    N = len(t)\n",
    "    dt = t[1] - t[0]\n",
    "    Y = np.fft.fftshift(np.fft.fft(signal))\n",
    "    f = np.fft.fftshift(np.fft.fftfreq(N, d=dt))\n",
    "    Y_mag = np.abs(Y) / np.max(np.abs(Y))\n",
    "    return f, Y_mag\n",
    "\n",
    "def reflected_sinusoid(freq, mod_freq, beta, phase_shift, t):\n",
    "    y = modulated_sinusoid(freq=freq, mod_freq=mod_freq, beta=beta, t=t) + sinusoid(freq=freq, phase_shift_degrees=phase_shift, t=t)\n",
    "    return y\n",
    "\n",
    "def beat_signal(freq, mod_freq, beta, phase_shift, t):\n",
    "    y1 = reflected_sinusoid(freq=freq, mod_freq=mod_freq, beta=beta, phase_shift=phase_shift, t=t)\n",
    "    y2 = sinusoid(freq=mod_freq, t=t)\n",
    "    return y1 * y2\n",
    "\n",
    "def beat_signal_vs_phase(freq, mod_freq, beta, t, n_points=361):\n",
    "    phases = np.linspace(0, 360, n_points)\n",
    "    means = []\n",
    "    for phi in phases:\n",
    "        y = beat_signal(freq=freq, mod_freq=mod_freq, beta=beta, phase_shift=phi, t=t)\n",
    "        means.append(np.mean(y))\n",
    "    return phases, np.array(means)\n",
    "\n",
    "def beat_signal_vs_phase_normalized(freq, mod_freq, beta, t, n_points=361):\n",
    "    phases = np.linspace(0, 360, n_points)\n",
    "    means = []\n",
    "    y_norm = np.mean(beat_signal(freq=freq, mod_freq=mod_freq, beta=beta, phase_shift=180, t=t))\n",
    "    for phi in phases:\n",
    "        y = beat_signal(freq=freq, mod_freq=mod_freq, beta=beta, phase_shift=phi, t=t) - y_norm\n",
    "        means.append(np.mean(y))\n",
    "    return phases, np.array(means)\n",
    "\n",
    "def plot_sinusoid(freq):\n",
    "    T = t1\n",
    "    y = sinusoid(freq=freq, t=T)\n",
    "    plt.figure(figsize=(8,4))\n",
    "    plt.plot(T, y, label=fr'cos(2pi * {freq}t)')\n",
    "    plt.xlabel(\"Time (s)\")\n",
    "    plt.ylabel(\"Amplitude\")\n",
    "    plt.title(\"Unmodulated Carrier\")\n",
    "    plt.grid(True)\n",
    "    plt.legend()\n",
    "    plt.show()\n",
    "\n",
    "def plot_modulated_sinusoid(freq, mod_freq, beta):\n",
    "    T = t1\n",
    "    y = modulated_sinusoid(freq=freq, mod_freq=mod_freq, beta=beta, t=T)\n",
    "    plt.figure(figsize=(8,4))\n",
    "    plt.plot(T, y, label=fr'cos(2pi * {freq} * t + {beta:.2e}*cos(2pi*{mod_freq:.2e}t))')\n",
    "    plt.xlabel(\"Time (s)\")\n",
    "    plt.ylabel(\"Amplitude\")\n",
    "    plt.title(\"Modulated Carrier\")\n",
    "    plt.grid(True)\n",
    "    plt.legend()\n",
    "    plt.show()\n",
    "\n",
    "def plot_spectrum_modulated_sinusoid(freq, mod_freq, beta):\n",
    "    T = t2\n",
    "    y = modulated_sinusoid(freq=freq, mod_freq=mod_freq, beta=beta, t=T)\n",
    "    f, Y_mag = get_sinusoid_spectrum(signal=y, t=T)\n",
    "    plt.figure(figsize=(10,5))\n",
    "    plt.plot(f, Y_mag)\n",
    "    plt.title(\"Frequency Spectrum of Phase-Modulated Signal\")\n",
    "    plt.xlabel(\"Frequency (Hz)\")\n",
    "    plt.ylabel(\"Normalized Magnitude\")\n",
    "    plt.xlim(freq-5*mod_freq, freq+5*mod_freq)\n",
    "    plt.grid(True)\n",
    "    plt.show()\n",
    "\n",
    "def plot_reflected_sinusoid(freq, mod_freq, beta, phase_shift):\n",
    "    y = reflected_sinusoid(freq=freq, mod_freq=mod_freq, beta=beta, phase_shift=phase_shift, t=t1)\n",
    "    yf = reflected_sinusoid(freq=freq, mod_freq=mod_freq, beta=beta, phase_shift=phase_shift, t=t2)\n",
    "    f, Y_mag = get_sinusoid_spectrum(signal=yf, t=t2)\n",
    "    \n",
    "    #Time domain plot\n",
    "    plt.figure(figsize=(8,4))\n",
    "    plt.plot(t1, y)\n",
    "    plt.xlabel(\"Time (s)\")\n",
    "    plt.ylabel(\"Amplitude\")\n",
    "    plt.title(\"Reflected Field\")\n",
    "    plt.grid(True)\n",
    "    plt.legend()\n",
    "    plt.show()\n",
    "    \n",
    "    #Freq domain plot\n",
    "    plt.figure(figsize=(10,5))\n",
    "    plt.plot(f, Y_mag)\n",
    "    plt.title(\"Frequency Spectrum of Reflected Field\")\n",
    "    plt.xlabel(\"Frequency (Hz)\")\n",
    "    plt.ylabel(\"Normalized Magnitude\")\n",
    "    plt.xlim(freq-5*mod_freq, freq+5*mod_freq)\n",
    "    plt.grid(True)\n",
    "    plt.show()\n",
    "\n",
    "\n",
    "def plot_beat_signal(freq, mod_freq, beta, phase_shift):\n",
    "    y = beat_signal(freq=freq, mod_freq=mod_freq, beta=beta, phase_shift=phase_shift, t=t1)\n",
    "    \n",
    "    # Compute DC (mean value)\n",
    "    dc_term = np.mean(y)\n",
    "    print(f\"Mean (DC component) of beat signal: {dc_term:.6f}\")\n",
    "    \n",
    "    # Time domain plot\n",
    "    plt.figure(figsize=(8,4))\n",
    "    plt.plot(t1, y, label=\"Beat signal\")\n",
    "    plt.axhline(dc_term, color=\"red\", linestyle=\"--\", label=f\"Mean = {dc_term:.3e}\")\n",
    "    plt.xlabel(\"Time (s)\")\n",
    "    plt.ylabel(\"Amplitude\")\n",
    "    plt.title(\"Beat Signal\")\n",
    "    plt.grid(True)\n",
    "    plt.legend()\n",
    "    plt.show()\n",
    "\n",
    "\n",
    "def plot_beat_signal_vs_phase(freq, mod_freq, beta):\n",
    "    # Get phase sweep and DC values\n",
    "    phis, ys = beat_signal_vs_phase(freq=freq, mod_freq=mod_freq, beta=beta, t=t1)\n",
    "\n",
    "    # Find intercept near 180°\n",
    "    idx = np.argmin(np.abs(phis - 180))\n",
    "    intercept_phase = phis[idx]\n",
    "    intercept_value = ys[idx]\n",
    "\n",
    "    # Plot curve\n",
    "    plt.figure(figsize=(8,4))\n",
    "    plt.plot(phis, ys, label=\"Mean beat signal\")\n",
    "    plt.axhline(0, color=\"black\", linestyle=\"--\", linewidth=0.8)\n",
    "\n",
    "    # Mark intercept\n",
    "    plt.plot(intercept_phase, intercept_value, 'ro', label=f\"180° intercept ({intercept_value:.3e})\")\n",
    "    plt.axvline(intercept_phase, color=\"red\", linestyle=\"--\", linewidth=0.8)\n",
    "\n",
    "    # Labels\n",
    "    plt.xlabel(\"Phase (Degrees)\")\n",
    "    plt.ylabel(\"DC Value\")\n",
    "    plt.title(\"Cavity Carrier Rotation vs Beat Signal DC Term\")\n",
    "    plt.grid(True)\n",
    "    plt.legend()\n",
    "    plt.show()\n",
    "\n",
    "\n",
    "def plot_beat_signal_vs_phase_normalized(freq, mod_freq, beta):\n",
    "    # Get phase sweep and DC values\n",
    "    phis, ys = beat_signal_vs_phase_normalized(freq=freq, mod_freq=mod_freq, beta=beta, t=t1)\n",
    "\n",
    "    # Find intercept near 180°\n",
    "    idx = np.argmin(np.abs(phis - 180))\n",
    "    intercept_phase = phis[idx]\n",
    "    intercept_value = ys[idx]\n",
    "\n",
    "    # Plot curve\n",
    "    plt.figure(figsize=(8,4))\n",
    "    plt.plot(phis, ys, label=\"Mean beat signal\")\n",
    "    plt.axhline(0, color=\"black\", linestyle=\"--\", linewidth=0.8)\n",
    "\n",
    "    # Mark intercept\n",
    "    plt.plot(intercept_phase, intercept_value, 'ro', label=f\"180° intercept ({intercept_value:.3e})\")\n",
    "    plt.axvline(intercept_phase, color=\"red\", linestyle=\"--\", linewidth=0.8)\n",
    "\n",
    "    # Labels\n",
    "    plt.xlabel(\"Phase (Degrees)\")\n",
    "    plt.ylabel(\"DC Value\")\n",
    "    plt.title(\"Cavity Carrier Rotation vs Normalized Beat Signal DC Term\")\n",
    "    plt.grid(True)\n",
    "    plt.legend()\n",
    "    plt.show()"
   ]
  },
  {
   "cell_type": "code",
   "execution_count": 274,
   "metadata": {},
   "outputs": [
    {
     "data": {
      "application/vnd.jupyter.widget-view+json": {
       "model_id": "861b9406bca54c25882c139b0b26d115",
       "version_major": 2,
       "version_minor": 0
      },
      "text/plain": [
       "interactive(children=(FloatSlider(value=4.4, description='freq', max=10.0, min=0.1), Output()), _dom_classes=(…"
      ]
     },
     "metadata": {},
     "output_type": "display_data"
    },
    {
     "data": {
      "application/vnd.jupyter.widget-view+json": {
       "model_id": "dcf5f2c5a0af403fa79d78d36bb77c73",
       "version_major": 2,
       "version_minor": 0
      },
      "text/plain": [
       "interactive(children=(FloatSlider(value=4.4, description='freq', max=10.0, min=0.1), FloatSlider(value=0.9, de…"
      ]
     },
     "metadata": {},
     "output_type": "display_data"
    },
    {
     "data": {
      "text/plain": [
       "<function __main__.plot_modulated_sinusoid(freq, mod_freq, beta)>"
      ]
     },
     "execution_count": 274,
     "metadata": {},
     "output_type": "execute_result"
    }
   ],
   "source": [
    "\n",
    "interact(plot_sinusoid, freq=freq)\n",
    "interact(plot_modulated_sinusoid, freq=freq, mod_freq=mod_freq, beta=beta)"
   ]
  },
  {
   "cell_type": "markdown",
   "metadata": {},
   "source": [
    "If we look at the modulated signal we see something that seems similar to multiple sinusoidal signals with different frequencies superimposing themselves on each other. This can be proven with the Jacobi-Anger identity but for now we'll just grab the frequency spectrum and see what happens. "
   ]
  },
  {
   "cell_type": "code",
   "execution_count": 275,
   "metadata": {},
   "outputs": [
    {
     "data": {
      "application/vnd.jupyter.widget-view+json": {
       "model_id": "89d09aaba5f94764a0b5010c0082ff6d",
       "version_major": 2,
       "version_minor": 0
      },
      "text/plain": [
       "interactive(children=(FloatSlider(value=4.4, description='freq', max=10.0, min=0.1), FloatSlider(value=0.9, de…"
      ]
     },
     "metadata": {},
     "output_type": "display_data"
    },
    {
     "data": {
      "text/plain": [
       "<function __main__.plot_spectrum_modulated_sinusoid(freq, mod_freq, beta)>"
      ]
     },
     "execution_count": 275,
     "metadata": {},
     "output_type": "execute_result"
    }
   ],
   "source": [
    "\n",
    "\n",
    "interact(plot_spectrum_modulated_sinusoid, \n",
    "         freq=freq, \n",
    "         mod_freq=mod_freq, \n",
    "         beta=beta)\n",
    "\n"
   ]
  },
  {
   "cell_type": "markdown",
   "metadata": {},
   "source": [
    "We can see that for modulation frequencies less than the carrier frequency, and for comparatively small values of beta, we generally observe two prominent 'sidebands' equidistant on each side of the dominant band (which as you'd expect is the carrier frequency). For now we can assume that a properly designed PDH system will ensure that the modulation frequency is much lower than the carrier frequency and that our beta is fairly small.\n",
    "\n",
    "## 1.2 Cavity interference\n",
    "We can make the assumption that our modulating signal is very resistant to frequency drift. If we could find a way to translate frequency offset into a phase offset, we could then get a beat signal by superimposing the two fields and demodulating them with respect to our modulating tone. Taking the DC term of this signal would get us a value that is bijective (within our operating range) with the phase offset and thus the frequency offset. In other words, if the beat signal is odd-symmetric around our modulating tone, demodulating it with respect to that tone will allow us to obtain the magnitude and sign of our frequency offset. In other words, we should:\n",
    "\n",
    "1. Impart a phase-shift on a signal with respect to frequency drift that is odd-symmetric\n",
    "2. Make the phase shift as sharp as possible so we can detect it easily\n",
    "3. Center it on our target carrier frequency that we are trying to correct to\n",
    "\n",
    "We accomplish the three objectives above through either a Fabry-Perot cavity or a ring resonator. For what we care about they are functionally the same. We rotate the carrier with respect to frequency offset and demodulate the reflected field with respect to the modulation frequency.\n",
    "\n",
    "For the code below, we assume a perfect cavity respose i.e. only the carrier component of our incident field is reflected. This is done to simplify the code. "
   ]
  },
  {
   "cell_type": "code",
   "execution_count": 276,
   "metadata": {},
   "outputs": [
    {
     "data": {
      "application/vnd.jupyter.widget-view+json": {
       "model_id": "9b93b9f45a0147ebbd133787a3ec2275",
       "version_major": 2,
       "version_minor": 0
      },
      "text/plain": [
       "interactive(children=(FloatSlider(value=4.4, description='freq', max=10.0, min=0.1), FloatSlider(value=0.9, de…"
      ]
     },
     "metadata": {},
     "output_type": "display_data"
    },
    {
     "data": {
      "text/plain": [
       "<function __main__.plot_reflected_sinusoid(freq, mod_freq, beta, phase_shift)>"
      ]
     },
     "execution_count": 276,
     "metadata": {},
     "output_type": "execute_result"
    }
   ],
   "source": [
    "interact(plot_reflected_sinusoid, freq=freq, mod_freq=mod_freq, beta=beta, phase_shift=phase_shift)"
   ]
  },
  {
   "cell_type": "markdown",
   "metadata": {},
   "source": [
    ". "
   ]
  },
  {
   "cell_type": "markdown",
   "metadata": {},
   "source": [
    "## 1.3 Beat Signal\n",
    "\n",
    "We can see that the time-domain representation of our reflected field takes on an interesting shape, and looking at the frequency-domain representation of that field we can see that for small phase offsets around a 180-degree baseline that the carrier tone is mostly eliminated (there are a couple reasons it doesn't disappear completely but that's not relevant for now). Now we can demodulate this reflection to obtain our beat signal. "
   ]
  },
  {
   "cell_type": "code",
   "execution_count": 277,
   "metadata": {},
   "outputs": [
    {
     "data": {
      "application/vnd.jupyter.widget-view+json": {
       "model_id": "a6aa8e93b1e64b34a316a8a8d3673acf",
       "version_major": 2,
       "version_minor": 0
      },
      "text/plain": [
       "interactive(children=(FloatSlider(value=4.4, description='freq', max=10.0, min=0.1), FloatSlider(value=0.9, de…"
      ]
     },
     "metadata": {},
     "output_type": "display_data"
    },
    {
     "data": {
      "text/plain": [
       "<function __main__.plot_beat_signal(freq, mod_freq, beta, phase_shift)>"
      ]
     },
     "execution_count": 277,
     "metadata": {},
     "output_type": "execute_result"
    }
   ],
   "source": [
    "interact(plot_beat_signal, freq=freq, mod_freq=mod_freq, beta=beta, phase_shift=phase_shift)"
   ]
  },
  {
   "cell_type": "markdown",
   "metadata": {},
   "source": [
    "We can see from the above that if our modulated signal is properly formed (two prominent sidebands), then small phase adjustments around the baseline rotation of 180 degrees results in a mean value that appears to be odd-symmetric and increasing/decreasing monotonically with respect to phase shift from baseline. The graph below plots this relationship out explicitly.  "
   ]
  },
  {
   "cell_type": "code",
   "execution_count": 278,
   "metadata": {},
   "outputs": [
    {
     "data": {
      "application/vnd.jupyter.widget-view+json": {
       "model_id": "58691f4e868b4bde8706b5f4ce9e7477",
       "version_major": 2,
       "version_minor": 0
      },
      "text/plain": [
       "interactive(children=(FloatSlider(value=4.4, description='freq', max=10.0, min=0.1), FloatSlider(value=0.9, de…"
      ]
     },
     "metadata": {},
     "output_type": "display_data"
    },
    {
     "data": {
      "text/plain": [
       "<function __main__.plot_beat_signal_vs_phase(freq, mod_freq, beta)>"
      ]
     },
     "execution_count": 278,
     "metadata": {},
     "output_type": "execute_result"
    }
   ],
   "source": [
    "interact(plot_beat_signal_vs_phase, freq=freq, mod_freq=mod_freq, beta=beta)"
   ]
  },
  {
   "cell_type": "markdown",
   "metadata": {},
   "source": [
    "What we are looking at above can be thought of as a sort of toy representation of a PDH error signal. The basic shape is similar but a lot of factors present in a real-world implementation were not accounted for. We also haven't bothered to compute phase offset from frequency offset and display the error signal as a result of a frequency sweep, which would probably be more useful. Rather, we just assume that the cavity does its job properly and rotates our carrier term by some given amount depending on its frequency offset.\n",
    "\n",
    "However, we can still see that this 'Toy Error Signal' is odd-symmetric around our 180-degree offset and is also monotonic in either direction up to a given point. Past this point the derivative changes signs and our error signal is no longer reliable (the bijection from frequency offset to beat signal DC term alluded to earlier breaks down). It's natural to ask if one should make sure to avoid excessive phase offsets (and by extension excessive frequency offsets). This is why servo controllers are combined with a separate acquisition strategy (e.g. sweep-and-hold, or an auxiliary wide-range actuator) to get the laser close enough that the PDH slope is reliable. \n",
    "\n",
    "We also see that there is generally some small offset at 180 degrees (cavity resonance). If we know what this offset, which can be obtained from the cavity response transfer function, we can normalize accordingly. "
   ]
  },
  {
   "cell_type": "code",
   "execution_count": 279,
   "metadata": {},
   "outputs": [
    {
     "data": {
      "application/vnd.jupyter.widget-view+json": {
       "model_id": "c41d0028476a403da1a58ff287fa752c",
       "version_major": 2,
       "version_minor": 0
      },
      "text/plain": [
       "interactive(children=(FloatSlider(value=4.4, description='freq', max=10.0, min=0.1), FloatSlider(value=0.9, de…"
      ]
     },
     "metadata": {},
     "output_type": "display_data"
    },
    {
     "data": {
      "text/plain": [
       "<function __main__.plot_beat_signal_vs_phase_normalized(freq, mod_freq, beta)>"
      ]
     },
     "execution_count": 279,
     "metadata": {},
     "output_type": "execute_result"
    }
   ],
   "source": [
    "interact(plot_beat_signal_vs_phase_normalized, freq=freq, mod_freq=mod_freq, beta=beta)"
   ]
  }
 ],
 "metadata": {
  "kernelspec": {
   "display_name": ".venv",
   "language": "python",
   "name": "python3"
  },
  "language_info": {
   "codemirror_mode": {
    "name": "ipython",
    "version": 3
   },
   "file_extension": ".py",
   "mimetype": "text/x-python",
   "name": "python",
   "nbconvert_exporter": "python",
   "pygments_lexer": "ipython3",
   "version": "3.13.3"
  }
 },
 "nbformat": 4,
 "nbformat_minor": 2
}
